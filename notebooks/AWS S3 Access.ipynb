{
 "cells": [
  {
   "cell_type": "markdown",
   "id": "eb165e28",
   "metadata": {},
   "source": [
    "### Setup"
   ]
  },
  {
   "cell_type": "code",
   "execution_count": 7,
   "id": "3dff1ed2",
   "metadata": {},
   "outputs": [],
   "source": [
    "import boto3\n",
    "import sys\n",
    "import io\n",
    "import re\n",
    "import csv\n",
    "import pandas as pd\n",
    "import numpy as np\n",
    "from botocore import UNSIGNED\n",
    "from botocore.client import Config\n",
    "if sys.version_info[0] < 3: \n",
    "    from StringIO import StringIO # Python 2.x\n",
    "else:\n",
    "    from io import StringIO # Python 3.x\n",
    "\n",
    "# Get our client with bucket region. Set config to an unsigned signiture (req for public users)\n",
    "resource = boto3.client('s3', config=Config(signature_version=UNSIGNED), region_name='us-west-1')\n",
    "# Get the bucket name\n",
    "bucket_name = 'moviereview.data'"
   ]
  },
  {
   "cell_type": "code",
   "execution_count": 2,
   "id": "64ad4dd8",
   "metadata": {},
   "outputs": [
    {
     "data": {
      "text/plain": [
       "[{'Key': 'imdb/name.basics.tsv',\n",
       "  'LastModified': datetime.datetime(2022, 9, 23, 20, 52, 9, tzinfo=tzutc()),\n",
       "  'ETag': '\"386b3a6a4e2041681adab177d3a3e6fe-42\"',\n",
       "  'Size': 712778336,\n",
       "  'StorageClass': 'STANDARD'},\n",
       " {'Key': 'imdb/name.basics.tsv.gz',\n",
       "  'LastModified': datetime.datetime(2022, 9, 23, 20, 52, 9, tzinfo=tzutc()),\n",
       "  'ETag': '\"2a86674377ff4a6b87e385648015d97e-14\"',\n",
       "  'Size': 232985457,\n",
       "  'StorageClass': 'STANDARD'},\n",
       " {'Key': 'imdb/title.akas.tsv',\n",
       "  'LastModified': datetime.datetime(2022, 9, 23, 20, 52, 9, tzinfo=tzutc()),\n",
       "  'ETag': '\"2e06bfff7437fed7934d5f2ba152eceb-97\"',\n",
       "  'Size': 1649681155,\n",
       "  'StorageClass': 'STANDARD'},\n",
       " {'Key': 'imdb/title.akas.tsv.gz',\n",
       "  'LastModified': datetime.datetime(2022, 9, 23, 20, 52, 9, tzinfo=tzutc()),\n",
       "  'ETag': '\"cf7d1828c331be26585f22d656f8d866-17\"',\n",
       "  'Size': 281026780,\n",
       "  'StorageClass': 'STANDARD'},\n",
       " {'Key': 'imdb/title.basics.tsv',\n",
       "  'LastModified': datetime.datetime(2022, 9, 23, 20, 52, 9, tzinfo=tzutc()),\n",
       "  'ETag': '\"15b8595c466b46227bb1ecdc7ab6be80-46\"',\n",
       "  'Size': 788101669,\n",
       "  'StorageClass': 'STANDARD'},\n",
       " {'Key': 'imdb/title.basics.tsv.gz',\n",
       "  'LastModified': datetime.datetime(2022, 9, 23, 20, 52, 9, tzinfo=tzutc()),\n",
       "  'ETag': '\"3fb318691e5a4329f6e332ce7453eddd-10\"',\n",
       "  'Size': 160888571,\n",
       "  'StorageClass': 'STANDARD'},\n",
       " {'Key': 'imdb/title.crew.tsv',\n",
       "  'LastModified': datetime.datetime(2022, 9, 23, 20, 52, 9, tzinfo=tzutc()),\n",
       "  'ETag': '\"2f3283ae55170df98f7ebec732913764-18\"',\n",
       "  'Size': 301283069,\n",
       "  'StorageClass': 'STANDARD'},\n",
       " {'Key': 'imdb/title.crew.tsv.gz',\n",
       "  'LastModified': datetime.datetime(2022, 9, 23, 20, 52, 9, tzinfo=tzutc()),\n",
       "  'ETag': '\"c6218dbc34a539ff5334fc87f7df0532-4\"',\n",
       "  'Size': 62440632,\n",
       "  'StorageClass': 'STANDARD'},\n",
       " {'Key': 'imdb/title.episode.tsv',\n",
       "  'LastModified': datetime.datetime(2022, 9, 23, 20, 52, 9, tzinfo=tzutc()),\n",
       "  'ETag': '\"fb7ddb1a816d252ee348c65d8459fd78-11\"',\n",
       "  'Size': 180039395,\n",
       "  'StorageClass': 'STANDARD'},\n",
       " {'Key': 'imdb/title.episode.tsv.gz',\n",
       "  'LastModified': datetime.datetime(2022, 9, 23, 20, 52, 9, tzinfo=tzutc()),\n",
       "  'ETag': '\"1fda80ea39f069b2ec5267eab5622cff-3\"',\n",
       "  'Size': 37692485,\n",
       "  'StorageClass': 'STANDARD'},\n",
       " {'Key': 'imdb/title.principals.tsv',\n",
       "  'LastModified': datetime.datetime(2022, 9, 23, 20, 52, 9, tzinfo=tzutc()),\n",
       "  'ETag': '\"492efcf1d6106025522ac6807cb43987-134\"',\n",
       "  'Size': 2287369116,\n",
       "  'StorageClass': 'STANDARD'},\n",
       " {'Key': 'imdb/title.principals.tsv.gz',\n",
       "  'LastModified': datetime.datetime(2022, 9, 23, 20, 52, 9, tzinfo=tzutc()),\n",
       "  'ETag': '\"89afc7c70a003db554c3515f8a96e896-24\"',\n",
       "  'Size': 409386071,\n",
       "  'StorageClass': 'STANDARD'},\n",
       " {'Key': 'imdb/title.ratings.tsv',\n",
       "  'LastModified': datetime.datetime(2022, 9, 23, 20, 52, 9, tzinfo=tzutc()),\n",
       "  'ETag': '\"a38a6854160bf8c99f1ad6d89d42cc57-2\"',\n",
       "  'Size': 21741849,\n",
       "  'StorageClass': 'STANDARD'},\n",
       " {'Key': 'imdb/title.ratings.tsv.gz',\n",
       "  'LastModified': datetime.datetime(2022, 9, 23, 20, 52, 11, tzinfo=tzutc()),\n",
       "  'ETag': '\"cc8e8beaea6f0a4a373e136102a57771\"',\n",
       "  'Size': 6299206,\n",
       "  'StorageClass': 'STANDARD'},\n",
       " {'Key': 'netflix/README',\n",
       "  'LastModified': datetime.datetime(2022, 9, 23, 20, 1, 49, tzinfo=tzutc()),\n",
       "  'ETag': '\"7ccdfcd6a5bf55c79f7938eb5c78ea7c\"',\n",
       "  'Size': 5916,\n",
       "  'StorageClass': 'STANDARD'},\n",
       " {'Key': 'netflix/combined_data_1.txt',\n",
       "  'LastModified': datetime.datetime(2022, 9, 23, 20, 1, 46, tzinfo=tzutc()),\n",
       "  'ETag': '\"4131e1cb893c3662f65bb0f583404b8c-29\"',\n",
       "  'Size': 495032008,\n",
       "  'StorageClass': 'STANDARD'},\n",
       " {'Key': 'netflix/combined_data_2.txt',\n",
       "  'LastModified': datetime.datetime(2022, 9, 23, 20, 1, 46, tzinfo=tzutc()),\n",
       "  'ETag': '\"db0bcd7fed88561ca6561fc2b5c01a9b-33\"',\n",
       "  'Size': 555207357,\n",
       "  'StorageClass': 'STANDARD'},\n",
       " {'Key': 'netflix/combined_data_3.txt',\n",
       "  'LastModified': datetime.datetime(2022, 9, 23, 20, 1, 46, tzinfo=tzutc()),\n",
       "  'ETag': '\"fb76e59ccc336885441406aedf06c03e-28\"',\n",
       "  'Size': 465157779,\n",
       "  'StorageClass': 'STANDARD'},\n",
       " {'Key': 'netflix/combined_data_4.txt',\n",
       "  'LastModified': datetime.datetime(2022, 9, 23, 20, 1, 46, tzinfo=tzutc()),\n",
       "  'ETag': '\"f03c0cdf5e0325c01424f140cb4c8bea-33\"',\n",
       "  'Size': 552537802,\n",
       "  'StorageClass': 'STANDARD'},\n",
       " {'Key': 'netflix/movie_titles.csv',\n",
       "  'LastModified': datetime.datetime(2022, 9, 23, 20, 1, 50, tzinfo=tzutc()),\n",
       "  'ETag': '\"d2b86d3d9ba8b491d62a85c9cf6aea39\"',\n",
       "  'Size': 577547,\n",
       "  'StorageClass': 'STANDARD'},\n",
       " {'Key': 'netflix/probe.txt',\n",
       "  'LastModified': datetime.datetime(2022, 9, 23, 20, 1, 49, tzinfo=tzutc()),\n",
       "  'ETag': '\"ed843ae92adbc70db64edbf825024514\"',\n",
       "  'Size': 10782692,\n",
       "  'StorageClass': 'STANDARD'},\n",
       " {'Key': 'netflix/qualifying.txt',\n",
       "  'LastModified': datetime.datetime(2022, 9, 23, 20, 1, 46, tzinfo=tzutc()),\n",
       "  'ETag': '\"66b9493e7af07e2d7176ef3181fb270c-4\"',\n",
       "  'Size': 52452386,\n",
       "  'StorageClass': 'STANDARD'}]"
      ]
     },
     "execution_count": 2,
     "metadata": {},
     "output_type": "execute_result"
    }
   ],
   "source": [
    "# Get list of objects in bucket\n",
    "resource.list_objects(Bucket=bucket_name).get(\"Contents\")"
   ]
  },
  {
   "cell_type": "markdown",
   "id": "aabb12f8",
   "metadata": {},
   "source": [
    "### IMDB Dataset"
   ]
  },
  {
   "cell_type": "code",
   "execution_count": 3,
   "id": "80212c60",
   "metadata": {},
   "outputs": [],
   "source": [
    "object_key = 'imdb/title.basics.tsv'\n",
    "csv_obj_imdb = resource.get_object(Bucket=bucket_name, Key=object_key)\n",
    "# csv_obj_imdb is a json with the data in 'Body'\n",
    "body = csv_obj_imdb['Body']\n",
    "csv_read_imdb = body.read()\n",
    "# Read into buffer IO\n",
    "# imdb_bytesio = io.BytesIO(csv_read_imdb)\n",
    "# Read into string IO\n",
    "# imdb_stringio = StringIO(csv_read_imdb.decode(\"ISO-8859-1\"))"
   ]
  },
  {
   "cell_type": "code",
   "execution_count": 23,
   "id": "dd33a529",
   "metadata": {},
   "outputs": [
    {
     "data": {
      "text/plain": [
       "['tt0000001',\n",
       " 'short',\n",
       " 'Carmencita',\n",
       " 'Carmencita',\n",
       " '0',\n",
       " '1894',\n",
       " '\\\\N',\n",
       " '1',\n",
       " 'Documentary,Short']"
      ]
     },
     "execution_count": 23,
     "metadata": {},
     "output_type": "execute_result"
    }
   ],
   "source": [
    "imdb.heaad"
   ]
  },
  {
   "cell_type": "code",
   "execution_count": 30,
   "id": "19157e1c",
   "metadata": {},
   "outputs": [
    {
     "name": "stderr",
     "output_type": "stream",
     "text": [
      "/tmp/ipykernel_1491013/1558157132.py:11: VisibleDeprecationWarning: Creating an ndarray from ragged nested sequences (which is a list-or-tuple of lists-or-tuples-or ndarrays with different lengths or shapes) is deprecated. If you meant to do this, you must specify 'dtype=object' when creating the ndarray.\n",
      "  rows = np.array(rows)\n"
     ]
    },
    {
     "ename": "TypeError",
     "evalue": "Index(...) must be called with a collection of some kind, 'tconst\\ttitleType\\tprimaryTitle\\toriginalTitle\\tisAdult\\tstartYear\\tendYear\\truntimeMinutes\\tgenres' was passed",
     "output_type": "error",
     "traceback": [
      "\u001b[0;31m---------------------------------------------------------------------------\u001b[0m",
      "\u001b[0;31mTypeError\u001b[0m                                 Traceback (most recent call last)",
      "Input \u001b[0;32mIn [30]\u001b[0m, in \u001b[0;36m<cell line: 12>\u001b[0;34m()\u001b[0m\n\u001b[1;32m     10\u001b[0m \u001b[38;5;66;03m#         stream.write(line)\u001b[39;00m\n\u001b[1;32m     11\u001b[0m rows \u001b[38;5;241m=\u001b[39m np\u001b[38;5;241m.\u001b[39marray(rows)\n\u001b[0;32m---> 12\u001b[0m imdb \u001b[38;5;241m=\u001b[39m \u001b[43mpd\u001b[49m\u001b[38;5;241;43m.\u001b[39;49m\u001b[43mDataFrame\u001b[49m\u001b[43m(\u001b[49m\u001b[43mrows\u001b[49m\u001b[43m,\u001b[49m\u001b[43m \u001b[49m\u001b[43mcolumns\u001b[49m\u001b[38;5;241;43m=\u001b[39;49m\u001b[43mheader\u001b[49m\u001b[43m)\u001b[49m\n",
      "File \u001b[0;32m~/.local/lib/python3.8/site-packages/pandas/core/frame.py:694\u001b[0m, in \u001b[0;36mDataFrame.__init__\u001b[0;34m(self, data, index, columns, dtype, copy)\u001b[0m\n\u001b[1;32m    684\u001b[0m         mgr \u001b[38;5;241m=\u001b[39m dict_to_mgr(\n\u001b[1;32m    685\u001b[0m             \u001b[38;5;66;03m# error: Item \"ndarray\" of \"Union[ndarray, Series, Index]\" has no\u001b[39;00m\n\u001b[1;32m    686\u001b[0m             \u001b[38;5;66;03m# attribute \"name\"\u001b[39;00m\n\u001b[0;32m   (...)\u001b[0m\n\u001b[1;32m    691\u001b[0m             typ\u001b[38;5;241m=\u001b[39mmanager,\n\u001b[1;32m    692\u001b[0m         )\n\u001b[1;32m    693\u001b[0m     \u001b[38;5;28;01melse\u001b[39;00m:\n\u001b[0;32m--> 694\u001b[0m         mgr \u001b[38;5;241m=\u001b[39m \u001b[43mndarray_to_mgr\u001b[49m\u001b[43m(\u001b[49m\n\u001b[1;32m    695\u001b[0m \u001b[43m            \u001b[49m\u001b[43mdata\u001b[49m\u001b[43m,\u001b[49m\n\u001b[1;32m    696\u001b[0m \u001b[43m            \u001b[49m\u001b[43mindex\u001b[49m\u001b[43m,\u001b[49m\n\u001b[1;32m    697\u001b[0m \u001b[43m            \u001b[49m\u001b[43mcolumns\u001b[49m\u001b[43m,\u001b[49m\n\u001b[1;32m    698\u001b[0m \u001b[43m            \u001b[49m\u001b[43mdtype\u001b[49m\u001b[38;5;241;43m=\u001b[39;49m\u001b[43mdtype\u001b[49m\u001b[43m,\u001b[49m\n\u001b[1;32m    699\u001b[0m \u001b[43m            \u001b[49m\u001b[43mcopy\u001b[49m\u001b[38;5;241;43m=\u001b[39;49m\u001b[43mcopy\u001b[49m\u001b[43m,\u001b[49m\n\u001b[1;32m    700\u001b[0m \u001b[43m            \u001b[49m\u001b[43mtyp\u001b[49m\u001b[38;5;241;43m=\u001b[39;49m\u001b[43mmanager\u001b[49m\u001b[43m,\u001b[49m\n\u001b[1;32m    701\u001b[0m \u001b[43m        \u001b[49m\u001b[43m)\u001b[49m\n\u001b[1;32m    703\u001b[0m \u001b[38;5;66;03m# For data is list-like, or Iterable (will consume into list)\u001b[39;00m\n\u001b[1;32m    704\u001b[0m \u001b[38;5;28;01melif\u001b[39;00m is_list_like(data):\n",
      "File \u001b[0;32m~/.local/lib/python3.8/site-packages/pandas/core/internals/construction.py:347\u001b[0m, in \u001b[0;36mndarray_to_mgr\u001b[0;34m(values, index, columns, dtype, copy, typ)\u001b[0m\n\u001b[1;32m    344\u001b[0m     values \u001b[38;5;241m=\u001b[39m values\u001b[38;5;241m.\u001b[39mreshape(shape)\n\u001b[1;32m    346\u001b[0m \u001b[38;5;66;03m# _prep_ndarray ensures that values.ndim == 2 at this point\u001b[39;00m\n\u001b[0;32m--> 347\u001b[0m index, columns \u001b[38;5;241m=\u001b[39m \u001b[43m_get_axes\u001b[49m\u001b[43m(\u001b[49m\n\u001b[1;32m    348\u001b[0m \u001b[43m    \u001b[49m\u001b[43mvalues\u001b[49m\u001b[38;5;241;43m.\u001b[39;49m\u001b[43mshape\u001b[49m\u001b[43m[\u001b[49m\u001b[38;5;241;43m0\u001b[39;49m\u001b[43m]\u001b[49m\u001b[43m,\u001b[49m\u001b[43m \u001b[49m\u001b[43mvalues\u001b[49m\u001b[38;5;241;43m.\u001b[39;49m\u001b[43mshape\u001b[49m\u001b[43m[\u001b[49m\u001b[38;5;241;43m1\u001b[39;49m\u001b[43m]\u001b[49m\u001b[43m,\u001b[49m\u001b[43m \u001b[49m\u001b[43mindex\u001b[49m\u001b[38;5;241;43m=\u001b[39;49m\u001b[43mindex\u001b[49m\u001b[43m,\u001b[49m\u001b[43m \u001b[49m\u001b[43mcolumns\u001b[49m\u001b[38;5;241;43m=\u001b[39;49m\u001b[43mcolumns\u001b[49m\n\u001b[1;32m    349\u001b[0m \u001b[43m\u001b[49m\u001b[43m)\u001b[49m\n\u001b[1;32m    351\u001b[0m _check_values_indices_shape_match(values, index, columns)\n\u001b[1;32m    353\u001b[0m \u001b[38;5;28;01mif\u001b[39;00m typ \u001b[38;5;241m==\u001b[39m \u001b[38;5;124m\"\u001b[39m\u001b[38;5;124marray\u001b[39m\u001b[38;5;124m\"\u001b[39m:\n",
      "File \u001b[0;32m~/.local/lib/python3.8/site-packages/pandas/core/internals/construction.py:761\u001b[0m, in \u001b[0;36m_get_axes\u001b[0;34m(N, K, index, columns)\u001b[0m\n\u001b[1;32m    759\u001b[0m     columns \u001b[38;5;241m=\u001b[39m default_index(K)\n\u001b[1;32m    760\u001b[0m \u001b[38;5;28;01melse\u001b[39;00m:\n\u001b[0;32m--> 761\u001b[0m     columns \u001b[38;5;241m=\u001b[39m \u001b[43mensure_index\u001b[49m\u001b[43m(\u001b[49m\u001b[43mcolumns\u001b[49m\u001b[43m)\u001b[49m\n\u001b[1;32m    762\u001b[0m \u001b[38;5;28;01mreturn\u001b[39;00m index, columns\n",
      "File \u001b[0;32m~/.local/lib/python3.8/site-packages/pandas/core/indexes/base.py:7043\u001b[0m, in \u001b[0;36mensure_index\u001b[0;34m(index_like, copy)\u001b[0m\n\u001b[1;32m   7041\u001b[0m         \u001b[38;5;28;01mreturn\u001b[39;00m Index\u001b[38;5;241m.\u001b[39m_with_infer(index_like, copy\u001b[38;5;241m=\u001b[39mcopy, tupleize_cols\u001b[38;5;241m=\u001b[39m\u001b[38;5;28;01mFalse\u001b[39;00m)\n\u001b[1;32m   7042\u001b[0m \u001b[38;5;28;01melse\u001b[39;00m:\n\u001b[0;32m-> 7043\u001b[0m     \u001b[38;5;28;01mreturn\u001b[39;00m \u001b[43mIndex\u001b[49m\u001b[38;5;241;43m.\u001b[39;49m\u001b[43m_with_infer\u001b[49m\u001b[43m(\u001b[49m\u001b[43mindex_like\u001b[49m\u001b[43m,\u001b[49m\u001b[43m \u001b[49m\u001b[43mcopy\u001b[49m\u001b[38;5;241;43m=\u001b[39;49m\u001b[43mcopy\u001b[49m\u001b[43m)\u001b[49m\n",
      "File \u001b[0;32m~/.local/lib/python3.8/site-packages/pandas/core/indexes/base.py:680\u001b[0m, in \u001b[0;36mIndex._with_infer\u001b[0;34m(cls, *args, **kwargs)\u001b[0m\n\u001b[1;32m    678\u001b[0m \u001b[38;5;28;01mwith\u001b[39;00m warnings\u001b[38;5;241m.\u001b[39mcatch_warnings():\n\u001b[1;32m    679\u001b[0m     warnings\u001b[38;5;241m.\u001b[39mfilterwarnings(\u001b[38;5;124m\"\u001b[39m\u001b[38;5;124mignore\u001b[39m\u001b[38;5;124m\"\u001b[39m, \u001b[38;5;124m\"\u001b[39m\u001b[38;5;124m.*the Index constructor\u001b[39m\u001b[38;5;124m\"\u001b[39m, \u001b[38;5;167;01mFutureWarning\u001b[39;00m)\n\u001b[0;32m--> 680\u001b[0m     result \u001b[38;5;241m=\u001b[39m \u001b[38;5;28;43mcls\u001b[39;49m\u001b[43m(\u001b[49m\u001b[38;5;241;43m*\u001b[39;49m\u001b[43margs\u001b[49m\u001b[43m,\u001b[49m\u001b[43m \u001b[49m\u001b[38;5;241;43m*\u001b[39;49m\u001b[38;5;241;43m*\u001b[39;49m\u001b[43mkwargs\u001b[49m\u001b[43m)\u001b[49m\n\u001b[1;32m    682\u001b[0m \u001b[38;5;28;01mif\u001b[39;00m result\u001b[38;5;241m.\u001b[39mdtype \u001b[38;5;241m==\u001b[39m _dtype_obj \u001b[38;5;129;01mand\u001b[39;00m \u001b[38;5;129;01mnot\u001b[39;00m result\u001b[38;5;241m.\u001b[39m_is_multi:\n\u001b[1;32m    683\u001b[0m     \u001b[38;5;66;03m# error: Argument 1 to \"maybe_convert_objects\" has incompatible type\u001b[39;00m\n\u001b[1;32m    684\u001b[0m     \u001b[38;5;66;03m# \"Union[ExtensionArray, ndarray[Any, Any]]\"; expected\u001b[39;00m\n\u001b[1;32m    685\u001b[0m     \u001b[38;5;66;03m# \"ndarray[Any, Any]\"\u001b[39;00m\n\u001b[1;32m    686\u001b[0m     values \u001b[38;5;241m=\u001b[39m lib\u001b[38;5;241m.\u001b[39mmaybe_convert_objects(result\u001b[38;5;241m.\u001b[39m_values)  \u001b[38;5;66;03m# type: ignore[arg-type]\u001b[39;00m\n",
      "File \u001b[0;32m~/.local/lib/python3.8/site-packages/pandas/core/indexes/base.py:508\u001b[0m, in \u001b[0;36mIndex.__new__\u001b[0;34m(cls, data, dtype, copy, name, tupleize_cols, **kwargs)\u001b[0m\n\u001b[1;32m    505\u001b[0m     \u001b[38;5;28;01mreturn\u001b[39;00m klass\u001b[38;5;241m.\u001b[39m_simple_new(arr, name)\n\u001b[1;32m    507\u001b[0m \u001b[38;5;28;01melif\u001b[39;00m is_scalar(data):\n\u001b[0;32m--> 508\u001b[0m     \u001b[38;5;28;01mraise\u001b[39;00m \u001b[38;5;28mcls\u001b[39m\u001b[38;5;241m.\u001b[39m_scalar_data_error(data)\n\u001b[1;32m    509\u001b[0m \u001b[38;5;28;01melif\u001b[39;00m \u001b[38;5;28mhasattr\u001b[39m(data, \u001b[38;5;124m\"\u001b[39m\u001b[38;5;124m__array__\u001b[39m\u001b[38;5;124m\"\u001b[39m):\n\u001b[1;32m    510\u001b[0m     \u001b[38;5;28;01mreturn\u001b[39;00m Index(np\u001b[38;5;241m.\u001b[39masarray(data), dtype\u001b[38;5;241m=\u001b[39mdtype, copy\u001b[38;5;241m=\u001b[39mcopy, name\u001b[38;5;241m=\u001b[39mname, \u001b[38;5;241m*\u001b[39m\u001b[38;5;241m*\u001b[39mkwargs)\n",
      "\u001b[0;31mTypeError\u001b[0m: Index(...) must be called with a collection of some kind, 'tconst\\ttitleType\\tprimaryTitle\\toriginalTitle\\tisAdult\\tstartYear\\tendYear\\truntimeMinutes\\tgenres' was passed"
     ]
    }
   ],
   "source": [
    "# Custom df conversion\n",
    "patrn = \"^tt[0-9]*\\t(movie|short|tvSeries|tvShort|tvMovie|tvSpecial|video|tvMiniSeries)\\t\"\n",
    "data = csv_read_imdb.decode(\"ISO-8859-1\").splitlines() # Gets list of each line in data\n",
    "rows = []\n",
    "header = data[0]\n",
    "for line in data[1:]:\n",
    "    # If regex pattern matches, add to the string\n",
    "    if re.search(patrn, line):\n",
    "        rows += [line.split('\\t')]\n",
    "#         stream.write(line)\n",
    "rows = np.array(rows)\n",
    "imdb = pd.DataFrame(rows, columns=header.split('\\t'))\n",
    "\n",
    "# imdb = imdb[imdb.startYear.apply(lambda x: x.isnumeric())].dropna(subset='startYear', inplace=False)\n",
    "# imdb[\"endYear\"] = imdb.endYear.apply(lambda x: x if x.isnumeric() else np.nan)\n",
    "# imdb['endYear'] = imdb['endYear'].astype(\"Int64\")\n",
    "# imdb['startYear'] = imdb['startYear'].astype(\"Int64\")"
   ]
  },
  {
   "cell_type": "code",
   "execution_count": null,
   "id": "539a941d",
   "metadata": {},
   "outputs": [],
   "source": [
    "imdb.head()"
   ]
  },
  {
   "cell_type": "markdown",
   "id": "3abf42f3",
   "metadata": {},
   "source": [
    "### Netflix data"
   ]
  },
  {
   "cell_type": "code",
   "execution_count": 4,
   "id": "acd47e61",
   "metadata": {},
   "outputs": [],
   "source": [
    "object_key = \"netflix/movie_titles.csv\"\n",
    "csv_obj_ntfx = resource.get_object(Bucket=bucket_name, Key=object_key)\n",
    "# csv_obj_ntfx is a json with the data in 'Body'\n",
    "body = csv_obj_ntfx['Body']\n",
    "csv_read_ntfx = body.read()\n",
    "ntfx_bytesio = io.BytesIO(csv_read_ntfx)"
   ]
  },
  {
   "cell_type": "code",
   "execution_count": 5,
   "id": "100ca10f",
   "metadata": {},
   "outputs": [],
   "source": [
    "def manual_sep(old_split):\n",
    "    new_split = old_split[0:2] + [\",\".join(old_split[2:])]\n",
    "    return new_split\n",
    "\n",
    "ntfx = pd.read_csv(ntfx_bytesio,\n",
    "                   encoding = \"ISO-8859-1\",\n",
    "                   header = None,\n",
    "                   names = ['Movie_Id', 'Year', 'Name'],\n",
    "                   on_bad_lines=manual_sep,\n",
    "                   engine='python')"
   ]
  },
  {
   "cell_type": "code",
   "execution_count": 6,
   "id": "5c011638",
   "metadata": {},
   "outputs": [
    {
     "data": {
      "text/html": [
       "<div>\n",
       "<style scoped>\n",
       "    .dataframe tbody tr th:only-of-type {\n",
       "        vertical-align: middle;\n",
       "    }\n",
       "\n",
       "    .dataframe tbody tr th {\n",
       "        vertical-align: top;\n",
       "    }\n",
       "\n",
       "    .dataframe thead th {\n",
       "        text-align: right;\n",
       "    }\n",
       "</style>\n",
       "<table border=\"1\" class=\"dataframe\">\n",
       "  <thead>\n",
       "    <tr style=\"text-align: right;\">\n",
       "      <th></th>\n",
       "      <th>Movie_Id</th>\n",
       "      <th>Year</th>\n",
       "      <th>Name</th>\n",
       "    </tr>\n",
       "  </thead>\n",
       "  <tbody>\n",
       "    <tr>\n",
       "      <th>0</th>\n",
       "      <td>1</td>\n",
       "      <td>2003.0</td>\n",
       "      <td>Dinosaur Planet</td>\n",
       "    </tr>\n",
       "    <tr>\n",
       "      <th>1</th>\n",
       "      <td>2</td>\n",
       "      <td>2004.0</td>\n",
       "      <td>Isle of Man TT 2004 Review</td>\n",
       "    </tr>\n",
       "    <tr>\n",
       "      <th>2</th>\n",
       "      <td>3</td>\n",
       "      <td>1997.0</td>\n",
       "      <td>Character</td>\n",
       "    </tr>\n",
       "    <tr>\n",
       "      <th>3</th>\n",
       "      <td>4</td>\n",
       "      <td>1994.0</td>\n",
       "      <td>Paula Abdul's Get Up &amp; Dance</td>\n",
       "    </tr>\n",
       "    <tr>\n",
       "      <th>4</th>\n",
       "      <td>5</td>\n",
       "      <td>2004.0</td>\n",
       "      <td>The Rise and Fall of ECW</td>\n",
       "    </tr>\n",
       "  </tbody>\n",
       "</table>\n",
       "</div>"
      ],
      "text/plain": [
       "   Movie_Id    Year                          Name\n",
       "0         1  2003.0               Dinosaur Planet\n",
       "1         2  2004.0    Isle of Man TT 2004 Review\n",
       "2         3  1997.0                     Character\n",
       "3         4  1994.0  Paula Abdul's Get Up & Dance\n",
       "4         5  2004.0      The Rise and Fall of ECW"
      ]
     },
     "execution_count": 6,
     "metadata": {},
     "output_type": "execute_result"
    }
   ],
   "source": [
    "ntfx.head()"
   ]
  },
  {
   "cell_type": "code",
   "execution_count": 13,
   "id": "1ef106fb",
   "metadata": {},
   "outputs": [],
   "source": []
  },
  {
   "cell_type": "code",
   "execution_count": null,
   "id": "acd6601c",
   "metadata": {},
   "outputs": [],
   "source": [
    "import s3fs\n",
    "import pandas as pd\n",
    "\n",
    "fs = s3fs.S3FileSystem(anon=False)\n",
    "with fs.open('bucket_name/path/to/file.csv', 'rb') as f:\n",
    "    df = pd.read_csv(f)`\n"
   ]
  }
 ],
 "metadata": {
  "kernelspec": {
   "display_name": "Python 3 (ipykernel)",
   "language": "python",
   "name": "python3"
  },
  "language_info": {
   "codemirror_mode": {
    "name": "ipython",
    "version": 3
   },
   "file_extension": ".py",
   "mimetype": "text/x-python",
   "name": "python",
   "nbconvert_exporter": "python",
   "pygments_lexer": "ipython3",
   "version": "3.8.10"
  }
 },
 "nbformat": 4,
 "nbformat_minor": 5
}
