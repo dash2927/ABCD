{
 "cells": [
  {
   "cell_type": "code",
   "execution_count": 1,
   "id": "f37dec7c",
   "metadata": {},
   "outputs": [],
   "source": [
    "import numpy as np\n",
    "import pandas as pd"
   ]
  },
  {
   "cell_type": "code",
   "execution_count": 3,
   "id": "e7b02dd3",
   "metadata": {},
   "outputs": [
    {
     "name": "stdout",
     "output_type": "stream",
     "text": [
      "Netflix Movie Names:\n",
      "ntfx.shape = (17763, 3)\n",
      "   Movie_Id  Year                          Name\n",
      "0         1  2003               Dinosaur Planet\n",
      "1         2  2004    Isle of Man TT 2004 Review\n",
      "2         3  1997                     Character\n",
      "3         4  1994  Paula Abdul's Get Up & Dance\n",
      "4         5  2004      The Rise and Fall of ECW\n",
      "Netflix Movie Ratings:\n"
     ]
    }
   ],
   "source": [
    "# IMPORT NETFLIX MOVIE NAMES\n",
    "netflix_movie_titles = \"../data/netflix/movie_titles.csv\"\n",
    "\n",
    "def manual_sep(old_split):\n",
    "    new_split = old_split[0:2] + [\",\".join(old_split[2:])]\n",
    "    return new_split\n",
    "    \n",
    "ntfx = pd.read_csv(netflix_movie_titles,\n",
    "                   encoding = \"ISO-8859-1\",\n",
    "                   header = None,\n",
    "                   names = ['Movie_Id', 'Year', 'Name'],\n",
    "                   on_bad_lines=manual_sep,\n",
    "                   engine='python')\n",
    "ntfx.dropna(subset='Year', inplace=True)\n",
    "ntfx['Year'] = ntfx['Year'].astype(\"Int64\")\n",
    "print(\"Netflix Movie Names:\")\n",
    "print(f'{ntfx.shape = }')\n",
    "print(ntfx.head().to_string())\n",
    "print(\"Netflix Movie Ratings:\")"
   ]
  },
  {
   "cell_type": "code",
   "execution_count": null,
   "id": "6d101b9f",
   "metadata": {},
   "outputs": [],
   "source": []
  }
 ],
 "metadata": {
  "kernelspec": {
   "display_name": "Python 3 (ipykernel)",
   "language": "python",
   "name": "python3"
  },
  "language_info": {
   "codemirror_mode": {
    "name": "ipython",
    "version": 3
   },
   "file_extension": ".py",
   "mimetype": "text/x-python",
   "name": "python",
   "nbconvert_exporter": "python",
   "pygments_lexer": "ipython3",
   "version": "3.8.10"
  }
 },
 "nbformat": 4,
 "nbformat_minor": 5
}
