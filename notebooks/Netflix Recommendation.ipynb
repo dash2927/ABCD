{
 "cells": [
  {
   "cell_type": "markdown",
   "id": "92fd039e",
   "metadata": {},
   "source": [
    "# Netflix Recommendation\n",
    "#### <span style=\"color: cornflowerblue\">Team 01 | CSPB 4502 | 11/16/22</span>"
   ]
  },
  {
   "cell_type": "markdown",
   "id": "741a42a6",
   "metadata": {},
   "source": [
    "The following is a base recommendation using only the netflix dataset."
   ]
  },
  {
   "cell_type": "code",
   "execution_count": 8,
   "id": "02e74cfc",
   "metadata": {},
   "outputs": [],
   "source": [
    "## LIBRARIES USED\n",
    "import pandas as pd\n",
    "import numpy as np\n",
    "import pickle\n",
    "import re\n",
    "import matplotlib.pyplot as plt\n",
    "import seaborn as sns\n",
    "from io import StringIO\n",
    "from sklearn.metrics.pairwise import cosine_similarity\n",
    "from scipy.stats import iqr\n",
    "from surprise import Dataset, SVD, Reader, accuracy\n",
    "from surprise.model_selection import cross_validate, train_test_split\n",
    "from sklearn.metrics import mean_squared_error, mean_absolute_error"
   ]
  },
  {
   "cell_type": "markdown",
   "id": "5044243a",
   "metadata": {},
   "source": [
    "<span style=\"color: cornflowerblue\">Import Dataset and Combine</span>"
   ]
  },
  {
   "cell_type": "code",
   "execution_count": 2,
   "id": "0286d90c",
   "metadata": {},
   "outputs": [
    {
     "name": "stdout",
     "output_type": "stream",
     "text": [
      "Netflix Movie Names:\n",
      "ntfx.shape = (17763, 3)\n",
      "   Movie_Id  Year                          Name\n",
      "0         1  2003               Dinosaur Planet\n",
      "1         2  2004    Isle of Man TT 2004 Review\n",
      "2         3  1997                     Character\n",
      "3         4  1994  Paula Abdul's Get Up & Dance\n",
      "4         5  2004      The Rise and Fall of ECW\n",
      "Netflix Movie Ratings:\n"
     ]
    }
   ],
   "source": [
    "## IMPORT NETFLIX MOVIE NAMES\n",
    "netflix_movie_titles = \"../data/netflix/movie_titles.csv\"\n",
    "\n",
    "def manual_sep(old_split):\n",
    "    new_split = old_split[0:2] + [\",\".join(old_split[2:])]\n",
    "    return new_split\n",
    "    \n",
    "ntfx = pd.read_csv(netflix_movie_titles,\n",
    "                   encoding = \"ISO-8859-1\",\n",
    "                   header = None,\n",
    "                   names = ['Movie_Id', 'Year', 'Name'],\n",
    "                   on_bad_lines=manual_sep,\n",
    "                   engine='python')\n",
    "ntfx.dropna(subset='Year', inplace=True)\n",
    "ntfx['Year'] = ntfx['Year'].astype(\"Int64\")\n",
    "print(\"Netflix Movie Names:\")\n",
    "print(f'{ntfx.shape = }')\n",
    "print(ntfx.head().to_string())\n",
    "print(\"Netflix Movie Ratings:\")"
   ]
  },
  {
   "cell_type": "code",
   "execution_count": 3,
   "id": "81cdea4b",
   "metadata": {},
   "outputs": [
    {
     "name": "stdout",
     "output_type": "stream",
     "text": [
      "reading file ../data/netflix/combined_data_1.txt\n",
      "reading file ../data/netflix/combined_data_2.txt\n",
      "reading file ../data/netflix/combined_data_3.txt\n",
      "reading file ../data/netflix/combined_data_4.txt\n",
      "reading done\n",
      "ratings.shape = (100480507, 4)\n",
      "   Movie_Id  CustomerID  Rating        Date\n",
      "0         1     1488844       3  2005-09-06\n",
      "1         1      822109       5  2005-05-13\n",
      "2         1      885013       4  2005-10-19\n",
      "3         1       30878       4  2005-12-26\n",
      "4         1      823519       3  2004-05-03\n"
     ]
    }
   ],
   "source": [
    "## IMPORT NETFLIX MOVIE RATINGS AND COMBINE\n",
    "netflix_movie_ratings = [f'../data/netflix/combined_data_{i}.txt' for i in range(1, 5)]\n",
    "stream = StringIO()\n",
    "movie_number = \"1\"\n",
    "for path in netflix_movie_ratings:\n",
    "    print(f'reading file {path}')\n",
    "    with open(path, \"r\") as file:\n",
    "        patrn = \"[0-9]:\"\n",
    "        for line in file:\n",
    "            if re.search(patrn, line):\n",
    "                movie_num = line.replace(\":\\n\", \"\")\n",
    "            else:\n",
    "                stream.write(movie_num+\",\"+line)\n",
    "    file.close()  \n",
    "stream.seek(0)\n",
    "print(\"reading done\")\n",
    "ratings = pd.read_csv(stream,\n",
    "                      encoding = \"ISO-8859-1\",\n",
    "                      names = ['Movie_Id', 'CustomerID', 'Rating', 'Date'],\n",
    "                      engine='c')\n",
    "stream.close()\n",
    "del(stream)\n",
    "print(f'{ratings.shape = }')\n",
    "print(ratings.head().to_string())"
   ]
  },
  {
   "cell_type": "code",
   "execution_count": 4,
   "id": "26eb3e1c",
   "metadata": {},
   "outputs": [
    {
     "name": "stdout",
     "output_type": "stream",
     "text": [
      "Number of Movies: 17770\n",
      "Number of Customers: 480189\n",
      "Total number of Reviews: 100480507\n"
     ]
    }
   ],
   "source": [
    "print(f'Number of Movies: {len(ratings[\"Movie_Id\"].unique())}')\n",
    "print(f'Number of Customers: {len(ratings[\"CustomerID\"].unique())}')\n",
    "print(f'Total number of Reviews: {len(ratings)}')"
   ]
  },
  {
   "cell_type": "markdown",
   "id": "9948630a",
   "metadata": {},
   "source": [
    "<span style=\"color: cornflowerblue\">Collaborative Filtering</span>"
   ]
  },
  {
   "cell_type": "markdown",
   "id": "72b84802",
   "metadata": {},
   "source": [
    "There are a few ways we can build a recommendation system. Unfortunately, since the dataset we are using is so large, it is extremely difficult to do anything substantial without a high computation and time cost. For example, a very common step in recommendation systems is to create a sparcity matrix. If we did not make any adjustments to out dataset, we would need a sparcity matrix which contained inforamtion for 17,770 unique movies and 480,189 unique customers with 100,480,507 ratings total. This would amount to a matrix with 8,532,958,530 cells in total - sometyhing that would take too much time and too much computational resources.  \n",
    "One way to get past this is through \"on-the-fly\" collaborative filtering. Collaborative filtering is a technique which uses only information for rating profiles fropm different users or items.$^{[1]}$ In order to do this, they locate similar users or items that are in the nearest neighborhood and generate recommendations based on the inforamtion given.  \n",
    "There are two major types of collaborative filtering - user based filtering and item based filtering. In user based filtering, we look for similar users and base the decision making on the choices made by the set of users. In item based collaboration, we look for similar items based on the items that have already been chosen.  \n",
    "What we can do is instead of calculating everything at once, we can caluclate recommendations based on who the custyomer is and compare it with customers that are similar. This greatly cuts down computation by eliminating datapoints which aren't very similar. The issue with this is that since we are only computing recommendations for single customers in the moment, and because we are only looking at correlation values, it becomes difficult to produce any type of metric. "
   ]
  },
  {
   "cell_type": "markdown",
   "id": "b4154411",
   "metadata": {},
   "source": [
    "For collaboration, we have created a script to run which will get the get the top similar users based on a specified threshold:"
   ]
  },
  {
   "cell_type": "code",
   "execution_count": 5,
   "id": "e0311d33",
   "metadata": {},
   "outputs": [],
   "source": [
    "import scripts.filtering as uf"
   ]
  },
  {
   "cell_type": "code",
   "execution_count": 6,
   "id": "dea72c6c",
   "metadata": {},
   "outputs": [],
   "source": [
    "## Define variables and create a similarity filtering object\n",
    "movie_thresh = 0.6    # threshold proportion of random_ID's movies that a user must have rated to be retained\n",
    "rho_thresh = 0.4   # threshold a user's correlation coefficient must meet to be retained\n",
    "\n",
    "user_filter = uf.SimilarityFiltering(ratings,\n",
    "                                     movie_thresh=movie_thresh,\n",
    "                                     rho_thresh=rho_thresh,\n",
    "                                     random_state=2)"
   ]
  },
  {
   "cell_type": "code",
   "execution_count": 7,
   "id": "b3e98087",
   "metadata": {
    "scrolled": true
   },
   "outputs": [
    {
     "data": {
      "text/html": [
       "<div>\n",
       "<style scoped>\n",
       "    .dataframe tbody tr th:only-of-type {\n",
       "        vertical-align: middle;\n",
       "    }\n",
       "\n",
       "    .dataframe tbody tr th {\n",
       "        vertical-align: top;\n",
       "    }\n",
       "\n",
       "    .dataframe thead th {\n",
       "        text-align: right;\n",
       "    }\n",
       "</style>\n",
       "<table border=\"1\" class=\"dataframe\">\n",
       "  <thead>\n",
       "    <tr style=\"text-align: right;\">\n",
       "      <th></th>\n",
       "      <th>Movie_Id</th>\n",
       "      <th>CustomerID</th>\n",
       "      <th>Rating</th>\n",
       "      <th>Date</th>\n",
       "      <th>corr</th>\n",
       "    </tr>\n",
       "  </thead>\n",
       "  <tbody>\n",
       "    <tr>\n",
       "      <th>185471</th>\n",
       "      <td>11846</td>\n",
       "      <td>1180814</td>\n",
       "      <td>4</td>\n",
       "      <td>2004-08-20</td>\n",
       "      <td>0.589639</td>\n",
       "    </tr>\n",
       "    <tr>\n",
       "      <th>185698</th>\n",
       "      <td>17716</td>\n",
       "      <td>1180814</td>\n",
       "      <td>4</td>\n",
       "      <td>2005-10-21</td>\n",
       "      <td>0.589639</td>\n",
       "    </tr>\n",
       "    <tr>\n",
       "      <th>185696</th>\n",
       "      <td>17681</td>\n",
       "      <td>1180814</td>\n",
       "      <td>4</td>\n",
       "      <td>2005-01-10</td>\n",
       "      <td>0.589639</td>\n",
       "    </tr>\n",
       "    <tr>\n",
       "      <th>185695</th>\n",
       "      <td>17671</td>\n",
       "      <td>1180814</td>\n",
       "      <td>4</td>\n",
       "      <td>2005-04-12</td>\n",
       "      <td>0.589639</td>\n",
       "    </tr>\n",
       "    <tr>\n",
       "      <th>185694</th>\n",
       "      <td>17662</td>\n",
       "      <td>1180814</td>\n",
       "      <td>3</td>\n",
       "      <td>2005-02-14</td>\n",
       "      <td>0.589639</td>\n",
       "    </tr>\n",
       "  </tbody>\n",
       "</table>\n",
       "</div>"
      ],
      "text/plain": [
       "        Movie_Id  CustomerID  Rating        Date      corr\n",
       "185471     11846     1180814       4  2004-08-20  0.589639\n",
       "185698     17716     1180814       4  2005-10-21  0.589639\n",
       "185696     17681     1180814       4  2005-01-10  0.589639\n",
       "185695     17671     1180814       4  2005-04-12  0.589639\n",
       "185694     17662     1180814       3  2005-02-14  0.589639"
      ]
     },
     "execution_count": 7,
     "metadata": {},
     "output_type": "execute_result"
    }
   ],
   "source": [
    "## Getting user similarity based on chosen movies for customer 10\n",
    "user_filter.getUserSimilarity(531050, \"Movie_Id\")\n",
    "user_filter.similar_users.sort_values('corr', ascending=False).head()"
   ]
  },
  {
   "cell_type": "markdown",
   "id": "88940105",
   "metadata": {},
   "source": [
    "From this, we can then get a score for each movie id based on the correlation given."
   ]
  },
  {
   "cell_type": "code",
   "execution_count": 8,
   "id": "830a99ca",
   "metadata": {},
   "outputs": [
    {
     "data": {
      "text/html": [
       "<div>\n",
       "<style scoped>\n",
       "    .dataframe tbody tr th:only-of-type {\n",
       "        vertical-align: middle;\n",
       "    }\n",
       "\n",
       "    .dataframe tbody tr th {\n",
       "        vertical-align: top;\n",
       "    }\n",
       "\n",
       "    .dataframe thead th {\n",
       "        text-align: right;\n",
       "    }\n",
       "</style>\n",
       "<table border=\"1\" class=\"dataframe\">\n",
       "  <thead>\n",
       "    <tr style=\"text-align: right;\">\n",
       "      <th></th>\n",
       "      <th>Movie_Id</th>\n",
       "      <th>CustomerID</th>\n",
       "      <th>Rating</th>\n",
       "      <th>Date</th>\n",
       "      <th>corr</th>\n",
       "      <th>score</th>\n",
       "    </tr>\n",
       "  </thead>\n",
       "  <tbody>\n",
       "    <tr>\n",
       "      <th>0</th>\n",
       "      <td>3</td>\n",
       "      <td>728801</td>\n",
       "      <td>4</td>\n",
       "      <td>2004-04-19</td>\n",
       "      <td>0.405044</td>\n",
       "      <td>1.620175</td>\n",
       "    </tr>\n",
       "    <tr>\n",
       "      <th>1</th>\n",
       "      <td>30</td>\n",
       "      <td>728801</td>\n",
       "      <td>2</td>\n",
       "      <td>2004-04-28</td>\n",
       "      <td>0.405044</td>\n",
       "      <td>0.810088</td>\n",
       "    </tr>\n",
       "    <tr>\n",
       "      <th>2</th>\n",
       "      <td>83</td>\n",
       "      <td>728801</td>\n",
       "      <td>4</td>\n",
       "      <td>2003-03-10</td>\n",
       "      <td>0.405044</td>\n",
       "      <td>1.620175</td>\n",
       "    </tr>\n",
       "    <tr>\n",
       "      <th>3</th>\n",
       "      <td>97</td>\n",
       "      <td>728801</td>\n",
       "      <td>4</td>\n",
       "      <td>2003-03-15</td>\n",
       "      <td>0.405044</td>\n",
       "      <td>1.620175</td>\n",
       "    </tr>\n",
       "    <tr>\n",
       "      <th>4</th>\n",
       "      <td>108</td>\n",
       "      <td>728801</td>\n",
       "      <td>3</td>\n",
       "      <td>2004-06-20</td>\n",
       "      <td>0.405044</td>\n",
       "      <td>1.215131</td>\n",
       "    </tr>\n",
       "  </tbody>\n",
       "</table>\n",
       "</div>"
      ],
      "text/plain": [
       "   Movie_Id  CustomerID  Rating        Date      corr     score\n",
       "0         3      728801       4  2004-04-19  0.405044  1.620175\n",
       "1        30      728801       2  2004-04-28  0.405044  0.810088\n",
       "2        83      728801       4  2003-03-10  0.405044  1.620175\n",
       "3        97      728801       4  2003-03-15  0.405044  1.620175\n",
       "4       108      728801       3  2004-06-20  0.405044  1.215131"
      ]
     },
     "execution_count": 8,
     "metadata": {},
     "output_type": "execute_result"
    }
   ],
   "source": [
    "## Create a score based on correlation and rating\n",
    "df = user_filter.similar_users\n",
    "df['score'] = df['corr']*df['Rating']\n",
    "df.head()"
   ]
  },
  {
   "cell_type": "code",
   "execution_count": 9,
   "id": "cd733dff",
   "metadata": {},
   "outputs": [
    {
     "data": {
      "text/html": [
       "<div>\n",
       "<style scoped>\n",
       "    .dataframe tbody tr th:only-of-type {\n",
       "        vertical-align: middle;\n",
       "    }\n",
       "\n",
       "    .dataframe tbody tr th {\n",
       "        vertical-align: top;\n",
       "    }\n",
       "\n",
       "    .dataframe thead th {\n",
       "        text-align: right;\n",
       "    }\n",
       "</style>\n",
       "<table border=\"1\" class=\"dataframe\">\n",
       "  <thead>\n",
       "    <tr style=\"text-align: right;\">\n",
       "      <th></th>\n",
       "      <th>cum_score</th>\n",
       "      <th>cum_corr</th>\n",
       "    </tr>\n",
       "    <tr>\n",
       "      <th>Movie_Id</th>\n",
       "      <th></th>\n",
       "      <th></th>\n",
       "    </tr>\n",
       "  </thead>\n",
       "  <tbody>\n",
       "    <tr>\n",
       "      <th>3</th>\n",
       "      <td>14.309206</td>\n",
       "      <td>3.873034</td>\n",
       "    </tr>\n",
       "    <tr>\n",
       "      <th>5</th>\n",
       "      <td>1.702102</td>\n",
       "      <td>0.425525</td>\n",
       "    </tr>\n",
       "    <tr>\n",
       "      <th>8</th>\n",
       "      <td>38.394871</td>\n",
       "      <td>11.912866</td>\n",
       "    </tr>\n",
       "    <tr>\n",
       "      <th>9</th>\n",
       "      <td>0.867900</td>\n",
       "      <td>0.433950</td>\n",
       "    </tr>\n",
       "    <tr>\n",
       "      <th>13</th>\n",
       "      <td>2.139101</td>\n",
       "      <td>0.427820</td>\n",
       "    </tr>\n",
       "  </tbody>\n",
       "</table>\n",
       "</div>"
      ],
      "text/plain": [
       "          cum_score   cum_corr\n",
       "Movie_Id                      \n",
       "3         14.309206   3.873034\n",
       "5          1.702102   0.425525\n",
       "8         38.394871  11.912866\n",
       "9          0.867900   0.433950\n",
       "13         2.139101   0.427820"
      ]
     },
     "execution_count": 9,
     "metadata": {},
     "output_type": "execute_result"
    }
   ],
   "source": [
    "# Get the cumulative score\n",
    "cum_df = df.groupby('Movie_Id').sum()[['score', 'corr']]\n",
    "cum_df.columns = ['cum_score', 'cum_corr']\n",
    "cum_df.head()"
   ]
  },
  {
   "cell_type": "code",
   "execution_count": 10,
   "id": "700687e9",
   "metadata": {},
   "outputs": [
    {
     "data": {
      "text/html": [
       "<div>\n",
       "<style scoped>\n",
       "    .dataframe tbody tr th:only-of-type {\n",
       "        vertical-align: middle;\n",
       "    }\n",
       "\n",
       "    .dataframe tbody tr th {\n",
       "        vertical-align: top;\n",
       "    }\n",
       "\n",
       "    .dataframe thead th {\n",
       "        text-align: right;\n",
       "    }\n",
       "</style>\n",
       "<table border=\"1\" class=\"dataframe\">\n",
       "  <thead>\n",
       "    <tr style=\"text-align: right;\">\n",
       "      <th></th>\n",
       "      <th>Recommendation_Score</th>\n",
       "      <th>Movie_Id</th>\n",
       "      <th>Year</th>\n",
       "      <th>Name</th>\n",
       "    </tr>\n",
       "  </thead>\n",
       "  <tbody>\n",
       "    <tr>\n",
       "      <th>13943</th>\n",
       "      <td>5.0</td>\n",
       "      <td>13944</td>\n",
       "      <td>1998</td>\n",
       "      <td>A Good Baby</td>\n",
       "    </tr>\n",
       "    <tr>\n",
       "      <th>9736</th>\n",
       "      <td>5.0</td>\n",
       "      <td>9737</td>\n",
       "      <td>2001</td>\n",
       "      <td>The Powerpuff Girls: Meet the Beat-Alls</td>\n",
       "    </tr>\n",
       "    <tr>\n",
       "      <th>6632</th>\n",
       "      <td>5.0</td>\n",
       "      <td>6633</td>\n",
       "      <td>2003</td>\n",
       "      <td>Foyle's War: Series 1</td>\n",
       "    </tr>\n",
       "    <tr>\n",
       "      <th>6175</th>\n",
       "      <td>5.0</td>\n",
       "      <td>6176</td>\n",
       "      <td>1983</td>\n",
       "      <td>Fraggle Rock: Season 1</td>\n",
       "    </tr>\n",
       "    <tr>\n",
       "      <th>15890</th>\n",
       "      <td>5.0</td>\n",
       "      <td>15891</td>\n",
       "      <td>1988</td>\n",
       "      <td>Inspector Morse 5: Last Seen Wearing</td>\n",
       "    </tr>\n",
       "    <tr>\n",
       "      <th>15632</th>\n",
       "      <td>5.0</td>\n",
       "      <td>15633</td>\n",
       "      <td>2000</td>\n",
       "      <td>The Thin Blue Lie</td>\n",
       "    </tr>\n",
       "    <tr>\n",
       "      <th>17234</th>\n",
       "      <td>5.0</td>\n",
       "      <td>17235</td>\n",
       "      <td>2003</td>\n",
       "      <td>Kal Ho Naa Ho: Tomorrow May Never Come</td>\n",
       "    </tr>\n",
       "    <tr>\n",
       "      <th>9481</th>\n",
       "      <td>5.0</td>\n",
       "      <td>9482</td>\n",
       "      <td>1992</td>\n",
       "      <td>Inspector Morse 23: The Death of the Self</td>\n",
       "    </tr>\n",
       "    <tr>\n",
       "      <th>3850</th>\n",
       "      <td>5.0</td>\n",
       "      <td>3851</td>\n",
       "      <td>1992</td>\n",
       "      <td>Inspector Morse 25: Cherubim &amp; Seraphim</td>\n",
       "    </tr>\n",
       "    <tr>\n",
       "      <th>4578</th>\n",
       "      <td>5.0</td>\n",
       "      <td>4579</td>\n",
       "      <td>1977</td>\n",
       "      <td>I Never Promised You a Rose Garden</td>\n",
       "    </tr>\n",
       "  </tbody>\n",
       "</table>\n",
       "</div>"
      ],
      "text/plain": [
       "       Recommendation_Score  Movie_Id  Year  \\\n",
       "13943                   5.0     13944  1998   \n",
       "9736                    5.0      9737  2001   \n",
       "6632                    5.0      6633  2003   \n",
       "6175                    5.0      6176  1983   \n",
       "15890                   5.0     15891  1988   \n",
       "15632                   5.0     15633  2000   \n",
       "17234                   5.0     17235  2003   \n",
       "9481                    5.0      9482  1992   \n",
       "3850                    5.0      3851  1992   \n",
       "4578                    5.0      4579  1977   \n",
       "\n",
       "                                            Name  \n",
       "13943                                A Good Baby  \n",
       "9736     The Powerpuff Girls: Meet the Beat-Alls  \n",
       "6632                       Foyle's War: Series 1  \n",
       "6175                      Fraggle Rock: Season 1  \n",
       "15890       Inspector Morse 5: Last Seen Wearing  \n",
       "15632                          The Thin Blue Lie  \n",
       "17234     Kal Ho Naa Ho: Tomorrow May Never Come  \n",
       "9481   Inspector Morse 23: The Death of the Self  \n",
       "3850     Inspector Morse 25: Cherubim & Seraphim  \n",
       "4578          I Never Promised You a Rose Garden  "
      ]
     },
     "execution_count": 10,
     "metadata": {},
     "output_type": "execute_result"
    }
   ],
   "source": [
    "## Create our recomendation, make an estimated rating\n",
    "recommendation = pd.DataFrame(data=(cum_df['cum_score']/cum_df['cum_corr']).to_list(),\n",
    "                              index = cum_df.index,\n",
    "                              columns=['Recommendation_Score']).sort_values(by='Recommendation_Score',\n",
    "                                                                                        ascending=False)\n",
    "recommendation = recommendation.merge(right=ntfx, left_index=True, right_on='Movie_Id')\n",
    "recommendation.head(10)"
   ]
  },
  {
   "cell_type": "markdown",
   "id": "72d705a3",
   "metadata": {},
   "source": [
    "<span style=\"color: cornflowerblue\">Reducing Data</span>"
   ]
  },
  {
   "cell_type": "markdown",
   "id": "a508e986",
   "metadata": {},
   "source": [
    "While the above implementation is very useful, it does not allow us to get any type of metric to evaluate the effectiveness of our recommendation. An alternative implementation would be to use matrix factorization using the SVD algorithm. This algorithm was popularized by Simon Funk during the Netflix Prize competition.$^{[2]}$ This can be accomplished through the surprise library.$^{[3]}$ Before doing this, however, we need to try and reduce the amount of objects in the data as much as possible.  \n",
    "To do this, we will first remove movies that are probably not very popular in the data - these are any movies which have a low amount of reviews. Since we are looking to recommend movies, we probably dont really care to recommend a movie with low popularity. We will then remove any customers who are not very active in their reviews. If a customer doesnt review often, then they will most likely be less trustworthy with giving reviews."
   ]
  },
  {
   "cell_type": "code",
   "execution_count": 11,
   "id": "4d642f8b",
   "metadata": {},
   "outputs": [],
   "source": [
    "## Free memory from previous work since we are dealing with large data\n",
    "del([recommendation, cum_df, df, user_filter])"
   ]
  },
  {
   "cell_type": "code",
   "execution_count": 12,
   "id": "2aea07f1",
   "metadata": {},
   "outputs": [
    {
     "name": "stdout",
     "output_type": "stream",
     "text": [
      "Movies to drop: 12438\n"
     ]
    }
   ],
   "source": [
    "## Remove movies with too few reviews (unpopular movies)\n",
    "freq_df = ratings.groupby('Movie_Id')['Rating'].agg(['count'])\n",
    "freq_df.head(20)\n",
    "movie_thresh = round(freq_df['count'].quantile(0.7))\n",
    "drop_movies = freq_df[freq_df['count'] < movie_thresh].index\n",
    "print(f'Movies to drop: {len(drop_movies)}')"
   ]
  },
  {
   "cell_type": "code",
   "execution_count": 13,
   "id": "b820f96b",
   "metadata": {},
   "outputs": [
    {
     "name": "stdout",
     "output_type": "stream",
     "text": [
      "Customers to drop: 335809\n"
     ]
    }
   ],
   "source": [
    "## Remove customer with too few reviews (inactive customers)\n",
    "freq_df = ratings.groupby('CustomerID')['Rating'].agg(['count'])\n",
    "freq_df.head(20)\n",
    "customer_thresh = round(freq_df['count'].quantile(0.7))\n",
    "drop_customers = freq_df[freq_df['count'] < customer_thresh].index\n",
    "print(f'Customers to drop: {len(drop_customers)}')"
   ]
  },
  {
   "cell_type": "code",
   "execution_count": 15,
   "id": "211404cb",
   "metadata": {},
   "outputs": [
    {
     "name": "stdout",
     "output_type": "stream",
     "text": [
      "Contextual outliers to drop: 2914484\n"
     ]
    }
   ],
   "source": [
    "## Contextual outlier removal: remove outliers in movie reviews\n",
    "def q1(x):\n",
    "    return np.quantile(x, .25)\n",
    "\n",
    "def q3(x):\n",
    "    return np.quantile(x, .75)\n",
    "\n",
    "freq_df = ratings.groupby('Movie_Id')['Rating'].agg([iqr, q1, q3])\n",
    "outlier_df = ratings.merge(right=freq_df,\n",
    "                               left_on='Movie_Id',\n",
    "                               right_index=True)\n",
    "del(freq_df)\n",
    "outliers = outlier_df[(outlier_df['Rating']<(outlier_df['q1'] - 1.5*outlier_df['iqr'])) |\n",
    "                      (outlier_df['Rating']>(outlier_df['q3'] + 1.5*outlier_df['iqr']))].index\n",
    "del(outlier_df)\n",
    "print(f'Contextual outliers to drop: {len(outliers)}')"
   ]
  },
  {
   "cell_type": "code",
   "execution_count": 16,
   "id": "0eeaa9d7",
   "metadata": {},
   "outputs": [
    {
     "data": {
      "text/plain": [
       "(69868264, 4)"
      ]
     },
     "execution_count": 16,
     "metadata": {},
     "output_type": "execute_result"
    }
   ],
   "source": [
    "new_ratings = ratings[~ratings['Movie_Id'].isin(drop_movies)]\n",
    "new_ratings = new_ratings[~new_ratings['CustomerID'].isin(drop_customers)]\n",
    "new_ratings = new_ratings[~new_ratings.index.isin(outliers)]\n",
    "new_ratings.shape"
   ]
  },
  {
   "cell_type": "code",
   "execution_count": 17,
   "id": "eaa35f12",
   "metadata": {},
   "outputs": [
    {
     "name": "stdout",
     "output_type": "stream",
     "text": [
      "Total removed datapoints: 30612243 (0.30%)\n"
     ]
    }
   ],
   "source": [
    "print(f'Total removed datapoints: {len(ratings) - len(new_ratings)} ({1-(len(new_ratings)/len(ratings)):.2f}%)')"
   ]
  },
  {
   "cell_type": "code",
   "execution_count": 18,
   "id": "4f407bb4",
   "metadata": {},
   "outputs": [],
   "source": [
    "del(ratings, outliers, drop_movies, drop_customers)"
   ]
  },
  {
   "cell_type": "code",
   "execution_count": 28,
   "id": "8b7f8de3",
   "metadata": {},
   "outputs": [
    {
     "data": {
      "text/plain": [
       "{'test_rmse': array([0.74498367, 0.74513559, 0.74513853, 0.74515964, 0.74485369]),\n",
       " 'test_mae': array([0.58629553, 0.5865052 , 0.58654417, 0.58652367, 0.58630125]),\n",
       " 'fit_time': (1243.6732385158539,\n",
       "  1166.1720881462097,\n",
       "  971.7347178459167,\n",
       "  867.3207578659058,\n",
       "  937.7179448604584),\n",
       " 'test_time': (497.456750869751,\n",
       "  245.21426105499268,\n",
       "  193.13601326942444,\n",
       "  214.1835584640503,\n",
       "  210.58476948738098)}"
      ]
     },
     "execution_count": 28,
     "metadata": {},
     "output_type": "execute_result"
    }
   ],
   "source": [
    "reader = Reader()\n",
    "\n",
    "data = Dataset.load_from_df(new_ratings[['CustomerID', 'Movie_Id', 'Rating']], reader)\n",
    "\n",
    "svd = SVD()\n",
    "cross_validate(svd, data, measures=['RMSE', 'MAE'], cv=5)"
   ]
  },
  {
   "cell_type": "code",
   "execution_count": 11,
   "id": "534ec022",
   "metadata": {},
   "outputs": [
    {
     "data": {
      "text/html": [
       "<div>\n",
       "<style scoped>\n",
       "    .dataframe tbody tr th:only-of-type {\n",
       "        vertical-align: middle;\n",
       "    }\n",
       "\n",
       "    .dataframe tbody tr th {\n",
       "        vertical-align: top;\n",
       "    }\n",
       "\n",
       "    .dataframe thead th {\n",
       "        text-align: right;\n",
       "    }\n",
       "</style>\n",
       "<table border=\"1\" class=\"dataframe\">\n",
       "  <thead>\n",
       "    <tr style=\"text-align: right;\">\n",
       "      <th></th>\n",
       "      <th>index</th>\n",
       "      <th>Movie_Id</th>\n",
       "      <th>CustomerID</th>\n",
       "      <th>Rating</th>\n",
       "      <th>Date</th>\n",
       "      <th>corr</th>\n",
       "    </tr>\n",
       "  </thead>\n",
       "  <tbody>\n",
       "    <tr>\n",
       "      <th>0</th>\n",
       "      <td>84178754</td>\n",
       "      <td>15039</td>\n",
       "      <td>1333</td>\n",
       "      <td>3</td>\n",
       "      <td>2005-07-09</td>\n",
       "      <td>1.0</td>\n",
       "    </tr>\n",
       "    <tr>\n",
       "      <th>1</th>\n",
       "      <td>38942962</td>\n",
       "      <td>6923</td>\n",
       "      <td>1333</td>\n",
       "      <td>2</td>\n",
       "      <td>2004-03-07</td>\n",
       "      <td>1.0</td>\n",
       "    </tr>\n",
       "    <tr>\n",
       "      <th>2</th>\n",
       "      <td>50690952</td>\n",
       "      <td>9160</td>\n",
       "      <td>1333</td>\n",
       "      <td>2</td>\n",
       "      <td>2004-02-08</td>\n",
       "      <td>1.0</td>\n",
       "    </tr>\n",
       "    <tr>\n",
       "      <th>3</th>\n",
       "      <td>20913277</td>\n",
       "      <td>3936</td>\n",
       "      <td>1333</td>\n",
       "      <td>1</td>\n",
       "      <td>2005-07-09</td>\n",
       "      <td>1.0</td>\n",
       "    </tr>\n",
       "    <tr>\n",
       "      <th>4</th>\n",
       "      <td>95259246</td>\n",
       "      <td>16901</td>\n",
       "      <td>1333</td>\n",
       "      <td>1</td>\n",
       "      <td>2004-02-18</td>\n",
       "      <td>1.0</td>\n",
       "    </tr>\n",
       "  </tbody>\n",
       "</table>\n",
       "</div>"
      ],
      "text/plain": [
       "      index  Movie_Id  CustomerID  Rating        Date  corr\n",
       "0  84178754     15039        1333       3  2005-07-09   1.0\n",
       "1  38942962      6923        1333       2  2004-03-07   1.0\n",
       "2  50690952      9160        1333       2  2004-02-08   1.0\n",
       "3  20913277      3936        1333       1  2005-07-09   1.0\n",
       "4  95259246     16901        1333       1  2004-02-18   1.0"
      ]
     },
     "execution_count": 11,
     "metadata": {},
     "output_type": "execute_result"
    }
   ],
   "source": [
    "filename = '../data/rating_corr.csv'\n",
    "ratings = pd.read_csv(filename)\n",
    "ratings.head()"
   ]
  },
  {
   "cell_type": "markdown",
   "id": "3d6bce91",
   "metadata": {},
   "source": [
    "<span style=\"color: cornflowerblue\">Using Integrated Data</span>\n",
    "\n",
    "While using the netflix data is useful, we can try to implement integrated data to get more information."
   ]
  },
  {
   "cell_type": "code",
   "execution_count": 5,
   "id": "7f822a28",
   "metadata": {},
   "outputs": [
    {
     "data": {
      "text/html": [
       "<div>\n",
       "<style scoped>\n",
       "    .dataframe tbody tr th:only-of-type {\n",
       "        vertical-align: middle;\n",
       "    }\n",
       "\n",
       "    .dataframe tbody tr th {\n",
       "        vertical-align: top;\n",
       "    }\n",
       "\n",
       "    .dataframe thead th {\n",
       "        text-align: right;\n",
       "    }\n",
       "</style>\n",
       "<table border=\"1\" class=\"dataframe\">\n",
       "  <thead>\n",
       "    <tr style=\"text-align: right;\">\n",
       "      <th></th>\n",
       "      <th>Unnamed: 0</th>\n",
       "      <th>Movie_Id</th>\n",
       "      <th>Year</th>\n",
       "      <th>Name</th>\n",
       "      <th>idx</th>\n",
       "      <th>tconst</th>\n",
       "      <th>titleType</th>\n",
       "      <th>primaryTitle</th>\n",
       "      <th>originalTitle</th>\n",
       "      <th>isAdult</th>\n",
       "      <th>startYear</th>\n",
       "      <th>endYear</th>\n",
       "      <th>runtimeMinutes</th>\n",
       "      <th>genres</th>\n",
       "    </tr>\n",
       "  </thead>\n",
       "  <tbody>\n",
       "    <tr>\n",
       "      <th>0</th>\n",
       "      <td>0</td>\n",
       "      <td>1</td>\n",
       "      <td>2003</td>\n",
       "      <td>Dinosaur Planet</td>\n",
       "      <td>tt0389605</td>\n",
       "      <td>tt0389605</td>\n",
       "      <td>tvMiniSeries</td>\n",
       "      <td>Dinosaur Planet</td>\n",
       "      <td>Dinosaur Planet</td>\n",
       "      <td>0</td>\n",
       "      <td>2003</td>\n",
       "      <td>NaN</td>\n",
       "      <td>48</td>\n",
       "      <td>Animation,Documentary,Family</td>\n",
       "    </tr>\n",
       "    <tr>\n",
       "      <th>1</th>\n",
       "      <td>1</td>\n",
       "      <td>3</td>\n",
       "      <td>1997</td>\n",
       "      <td>Character</td>\n",
       "      <td>tt0119448</td>\n",
       "      <td>tt0119448</td>\n",
       "      <td>movie</td>\n",
       "      <td>Character</td>\n",
       "      <td>Karakter</td>\n",
       "      <td>0</td>\n",
       "      <td>1997</td>\n",
       "      <td>NaN</td>\n",
       "      <td>122</td>\n",
       "      <td>Crime,Drama,Mystery</td>\n",
       "    </tr>\n",
       "    <tr>\n",
       "      <th>2</th>\n",
       "      <td>2</td>\n",
       "      <td>6</td>\n",
       "      <td>1997</td>\n",
       "      <td>Sick</td>\n",
       "      <td>tt0120126</td>\n",
       "      <td>tt0120126</td>\n",
       "      <td>movie</td>\n",
       "      <td>Sick</td>\n",
       "      <td>Sick: The Life &amp; Death of Bob Flanagan, Superm...</td>\n",
       "      <td>0</td>\n",
       "      <td>1997</td>\n",
       "      <td>NaN</td>\n",
       "      <td>90</td>\n",
       "      <td>Documentary</td>\n",
       "    </tr>\n",
       "    <tr>\n",
       "      <th>3</th>\n",
       "      <td>3</td>\n",
       "      <td>7</td>\n",
       "      <td>1992</td>\n",
       "      <td>8 Man</td>\n",
       "      <td>tt0182668</td>\n",
       "      <td>tt0182668</td>\n",
       "      <td>movie</td>\n",
       "      <td>8 Man</td>\n",
       "      <td>Eitoman - Subete no sabishii yoru no tame ni</td>\n",
       "      <td>0</td>\n",
       "      <td>1992</td>\n",
       "      <td>NaN</td>\n",
       "      <td>83</td>\n",
       "      <td>Action,Sci-Fi</td>\n",
       "    </tr>\n",
       "    <tr>\n",
       "      <th>4</th>\n",
       "      <td>4</td>\n",
       "      <td>8</td>\n",
       "      <td>2004</td>\n",
       "      <td>What the #$*! Do We Know!?</td>\n",
       "      <td>tt0399877</td>\n",
       "      <td>tt0399877</td>\n",
       "      <td>movie</td>\n",
       "      <td>What the #$*! Do We (K)now!?</td>\n",
       "      <td>What the #$*! Do We (K)now!?</td>\n",
       "      <td>0</td>\n",
       "      <td>2004</td>\n",
       "      <td>NaN</td>\n",
       "      <td>109</td>\n",
       "      <td>Comedy,Documentary,Drama</td>\n",
       "    </tr>\n",
       "  </tbody>\n",
       "</table>\n",
       "</div>"
      ],
      "text/plain": [
       "   Unnamed: 0  Movie_Id  Year                        Name        idx  \\\n",
       "0           0         1  2003             Dinosaur Planet  tt0389605   \n",
       "1           1         3  1997                   Character  tt0119448   \n",
       "2           2         6  1997                        Sick  tt0120126   \n",
       "3           3         7  1992                       8 Man  tt0182668   \n",
       "4           4         8  2004  What the #$*! Do We Know!?  tt0399877   \n",
       "\n",
       "      tconst     titleType                  primaryTitle  \\\n",
       "0  tt0389605  tvMiniSeries               Dinosaur Planet   \n",
       "1  tt0119448         movie                     Character   \n",
       "2  tt0120126         movie                          Sick   \n",
       "3  tt0182668         movie                         8 Man   \n",
       "4  tt0399877         movie  What the #$*! Do We (K)now!?   \n",
       "\n",
       "                                       originalTitle  isAdult  startYear  \\\n",
       "0                                    Dinosaur Planet        0       2003   \n",
       "1                                           Karakter        0       1997   \n",
       "2  Sick: The Life & Death of Bob Flanagan, Superm...        0       1997   \n",
       "3       Eitoman - Subete no sabishii yoru no tame ni        0       1992   \n",
       "4                       What the #$*! Do We (K)now!?        0       2004   \n",
       "\n",
       "   endYear runtimeMinutes                        genres  \n",
       "0      NaN             48  Animation,Documentary,Family  \n",
       "1      NaN            122           Crime,Drama,Mystery  \n",
       "2      NaN             90                   Documentary  \n",
       "3      NaN             83                 Action,Sci-Fi  \n",
       "4      NaN            109      Comedy,Documentary,Drama  "
      ]
     },
     "execution_count": 5,
     "metadata": {},
     "output_type": "execute_result"
    }
   ],
   "source": [
    "## Getting integrated dataset from AWS\n",
    "import boto3\n",
    "import sys\n",
    "import io\n",
    "import re\n",
    "import csv\n",
    "import os\n",
    "import pandas as pd\n",
    "import numpy as np\n",
    "from botocore import UNSIGNED\n",
    "from botocore.client import Config\n",
    "if sys.version_info[0] < 3:\n",
    "    from StringIO import StringIO # Python 2.x\n",
    "else:\n",
    "    from io import StringIO # Python 3.x\n",
    "\n",
    "# Get our client with bucket region. Set config to an unsigned signiture (req for public users)\n",
    "resource = boto3.client('s3', config=Config(signature_version=UNSIGNED), region_name='us-west-1')\n",
    "# Get the bucket name\n",
    "bucket_name = 'moviereview.data'\n",
    "object_key = \"data/NetflixJoinedNLP.csv\"\n",
    "csv_obj_conn = resource.get_object(Bucket=bucket_name, Key=object_key)\n",
    "# csv_obj_ntfx is a json with the data in 'Body'\n",
    "body = csv_obj_conn['Body']\n",
    "csv_read_conn = body.read()\n",
    "conn_bytesio = io.BytesIO(csv_read_conn)\n",
    "conn = pd.read_csv(conn_bytesio)\n",
    "conn.head()"
   ]
  },
  {
   "cell_type": "code",
   "execution_count": 6,
   "id": "2aadd2e1",
   "metadata": {},
   "outputs": [
    {
     "data": {
      "text/plain": [
       "(87080526, 4)"
      ]
     },
     "execution_count": 6,
     "metadata": {},
     "output_type": "execute_result"
    }
   ],
   "source": [
    "## Integrating into Netflix ratings\n",
    "ratings = ratings[ratings['Movie_Id'].isin(conn['Movie_Id'])]\n",
    "ratings.shape"
   ]
  },
  {
   "cell_type": "code",
   "execution_count": 7,
   "id": "4bd3ed3e",
   "metadata": {},
   "outputs": [
    {
     "name": "stdout",
     "output_type": "stream",
     "text": [
      "Movies to drop: 9504\n",
      "Customers to drop: 407669\n"
     ]
    }
   ],
   "source": [
    "## Remove movies with too few reviews (unpopular movies)\n",
    "freq_df = ratings.groupby('Movie_Id')['Rating'].agg(['count'])\n",
    "freq_df.head(20)\n",
    "movie_thresh = round(freq_df['count'].quantile(0.85))\n",
    "drop_movies = freq_df[freq_df['count'] < movie_thresh].index\n",
    "print(f'Movies to drop: {len(drop_movies)}')\n",
    "\n",
    "## Remove customer with too few reviews (inactive customers)\n",
    "freq_df = ratings.groupby('CustomerID')['Rating'].agg(['count'])\n",
    "freq_df.head(20)\n",
    "customer_thresh = round(freq_df['count'].quantile(0.85))\n",
    "drop_customers = freq_df[freq_df['count'] < customer_thresh].index\n",
    "print(f'Customers to drop: {len(drop_customers)}')"
   ]
  },
  {
   "cell_type": "code",
   "execution_count": 8,
   "id": "dba744ee",
   "metadata": {},
   "outputs": [
    {
     "name": "stdout",
     "output_type": "stream",
     "text": [
      "Contextual outliers to drop: 2389174\n"
     ]
    }
   ],
   "source": [
    "## Contextual outlier removal: remove outliers in movie reviews\n",
    "def q1(x):\n",
    "    return np.quantile(x, .25)\n",
    "\n",
    "def q3(x):\n",
    "    return np.quantile(x, .75)\n",
    "\n",
    "freq_df = ratings.groupby('Movie_Id')['Rating'].agg([iqr, q1, q3])\n",
    "outlier_df = ratings.merge(right=freq_df,\n",
    "                               left_on='Movie_Id',\n",
    "                               right_index=True)\n",
    "del(freq_df)\n",
    "outliers = outlier_df[(outlier_df['Rating']<(outlier_df['q1'] - 1.5*outlier_df['iqr'])) |\n",
    "                      (outlier_df['Rating']>(outlier_df['q3'] + 1.5*outlier_df['iqr']))].index\n",
    "del(outlier_df)\n",
    "print(f'Contextual outliers to drop: {len(outliers)}')"
   ]
  },
  {
   "cell_type": "code",
   "execution_count": 9,
   "id": "df0bd4a6",
   "metadata": {},
   "outputs": [
    {
     "data": {
      "text/plain": [
       "(35598871, 4)"
      ]
     },
     "execution_count": 9,
     "metadata": {},
     "output_type": "execute_result"
    }
   ],
   "source": [
    "new_ratings = ratings[~ratings['Movie_Id'].isin(drop_movies)]\n",
    "new_ratings = new_ratings[~new_ratings['CustomerID'].isin(drop_customers)]\n",
    "new_ratings = new_ratings[~new_ratings.index.isin(outliers)]\n",
    "new_ratings.shape"
   ]
  },
  {
   "cell_type": "code",
   "execution_count": 10,
   "id": "b01c3231",
   "metadata": {},
   "outputs": [
    {
     "name": "stdout",
     "output_type": "stream",
     "text": [
      "Total removed datapoints: 51481655 (0.59%)\n"
     ]
    }
   ],
   "source": [
    "print(f'Total removed datapoints: {len(ratings) - len(new_ratings)} ({1-(len(new_ratings)/len(ratings)):.2f}%)')"
   ]
  },
  {
   "cell_type": "code",
   "execution_count": 11,
   "id": "d738152f",
   "metadata": {},
   "outputs": [],
   "source": [
    "del(ratings, outliers, drop_movies, drop_customers)"
   ]
  },
  {
   "cell_type": "code",
   "execution_count": 12,
   "id": "6fa09509",
   "metadata": {},
   "outputs": [],
   "source": [
    "## Adding information\n",
    "new_ratings = new_ratings.merge(right=conn, on='Movie_Id')[['Movie_Id', 'CustomerID', 'Rating', 'genres']]"
   ]
  },
  {
   "cell_type": "code",
   "execution_count": 13,
   "id": "076339a0",
   "metadata": {},
   "outputs": [
    {
     "data": {
      "text/html": [
       "<div>\n",
       "<style scoped>\n",
       "    .dataframe tbody tr th:only-of-type {\n",
       "        vertical-align: middle;\n",
       "    }\n",
       "\n",
       "    .dataframe tbody tr th {\n",
       "        vertical-align: top;\n",
       "    }\n",
       "\n",
       "    .dataframe thead th {\n",
       "        text-align: right;\n",
       "    }\n",
       "</style>\n",
       "<table border=\"1\" class=\"dataframe\">\n",
       "  <thead>\n",
       "    <tr style=\"text-align: right;\">\n",
       "      <th></th>\n",
       "      <th>Movie_Id</th>\n",
       "      <th>CustomerID</th>\n",
       "      <th>Rating</th>\n",
       "      <th>genres</th>\n",
       "    </tr>\n",
       "  </thead>\n",
       "  <tbody>\n",
       "    <tr>\n",
       "      <th>0</th>\n",
       "      <td>8</td>\n",
       "      <td>785314</td>\n",
       "      <td>1</td>\n",
       "      <td>Comedy,Documentary,Drama</td>\n",
       "    </tr>\n",
       "    <tr>\n",
       "      <th>1</th>\n",
       "      <td>8</td>\n",
       "      <td>243963</td>\n",
       "      <td>3</td>\n",
       "      <td>Comedy,Documentary,Drama</td>\n",
       "    </tr>\n",
       "    <tr>\n",
       "      <th>2</th>\n",
       "      <td>8</td>\n",
       "      <td>1447783</td>\n",
       "      <td>4</td>\n",
       "      <td>Comedy,Documentary,Drama</td>\n",
       "    </tr>\n",
       "    <tr>\n",
       "      <th>3</th>\n",
       "      <td>8</td>\n",
       "      <td>1912665</td>\n",
       "      <td>1</td>\n",
       "      <td>Comedy,Documentary,Drama</td>\n",
       "    </tr>\n",
       "    <tr>\n",
       "      <th>4</th>\n",
       "      <td>8</td>\n",
       "      <td>1744889</td>\n",
       "      <td>1</td>\n",
       "      <td>Comedy,Documentary,Drama</td>\n",
       "    </tr>\n",
       "  </tbody>\n",
       "</table>\n",
       "</div>"
      ],
      "text/plain": [
       "   Movie_Id  CustomerID  Rating                    genres\n",
       "0         8      785314       1  Comedy,Documentary,Drama\n",
       "1         8      243963       3  Comedy,Documentary,Drama\n",
       "2         8     1447783       4  Comedy,Documentary,Drama\n",
       "3         8     1912665       1  Comedy,Documentary,Drama\n",
       "4         8     1744889       1  Comedy,Documentary,Drama"
      ]
     },
     "execution_count": 13,
     "metadata": {},
     "output_type": "execute_result"
    }
   ],
   "source": [
    "new_ratings.head()"
   ]
  },
  {
   "cell_type": "code",
   "execution_count": 14,
   "id": "ff94071c",
   "metadata": {},
   "outputs": [],
   "source": [
    "new_ratings = new_ratings[~(new_ratings['genres'] == '\\\\N')]"
   ]
  },
  {
   "cell_type": "code",
   "execution_count": 15,
   "id": "6659fce2",
   "metadata": {},
   "outputs": [
    {
     "name": "stdout",
     "output_type": "stream",
     "text": [
      "Number of genres that are not frequent enough: 7/29\n",
      "['Film-Noir', 'Adult', 'Talk-Show', '\\\\N', 'Game-Show', 'Reality-TV', 'News']\n"
     ]
    }
   ],
   "source": [
    "## Checking freq of genres - we want to remove genres that aren't frequent:\n",
    "freq_genre = {}\n",
    "genres = conn['genres']\n",
    "# Get frequency dict\n",
    "for genre in genres:\n",
    "    glist = genre.split(',')\n",
    "    for g in glist:\n",
    "        if freq_genre.get(g) is None:\n",
    "            freq_genre[g] = 1\n",
    "        else:\n",
    "            freq_genre[g] += 1\n",
    "conf = 0.01*len(conn) # confidence level: genres need to be in at least 1% of movies\n",
    "delete = []\n",
    "for key, value in freq_genre.items():\n",
    "    if value < conf:\n",
    "        delete += [key]\n",
    "print(f'Number of genres that are not frequent enough: {len(delete)}/{len(freq_genre.items())}')\n",
    "print(delete)"
   ]
  },
  {
   "cell_type": "code",
   "execution_count": 16,
   "id": "4d85aa33",
   "metadata": {},
   "outputs": [
    {
     "name": "stdout",
     "output_type": "stream",
     "text": [
      "[|||||||||||] Done\tnew_length=89494247\n"
     ]
    },
    {
     "data": {
      "text/html": [
       "<div>\n",
       "<style scoped>\n",
       "    .dataframe tbody tr th:only-of-type {\n",
       "        vertical-align: middle;\n",
       "    }\n",
       "\n",
       "    .dataframe tbody tr th {\n",
       "        vertical-align: top;\n",
       "    }\n",
       "\n",
       "    .dataframe thead th {\n",
       "        text-align: right;\n",
       "    }\n",
       "</style>\n",
       "<table border=\"1\" class=\"dataframe\">\n",
       "  <thead>\n",
       "    <tr style=\"text-align: right;\">\n",
       "      <th></th>\n",
       "      <th>Movie_Id</th>\n",
       "      <th>CustomerID</th>\n",
       "      <th>Rating</th>\n",
       "      <th>genres</th>\n",
       "      <th>genre_exp</th>\n",
       "    </tr>\n",
       "  </thead>\n",
       "  <tbody>\n",
       "    <tr>\n",
       "      <th>0</th>\n",
       "      <td>8</td>\n",
       "      <td>785314</td>\n",
       "      <td>1</td>\n",
       "      <td>Comedy,Documentary,Drama</td>\n",
       "      <td>Comedy</td>\n",
       "    </tr>\n",
       "    <tr>\n",
       "      <th>1</th>\n",
       "      <td>8</td>\n",
       "      <td>785314</td>\n",
       "      <td>1</td>\n",
       "      <td>Comedy,Documentary,Drama</td>\n",
       "      <td>Documentary</td>\n",
       "    </tr>\n",
       "    <tr>\n",
       "      <th>2</th>\n",
       "      <td>8</td>\n",
       "      <td>785314</td>\n",
       "      <td>1</td>\n",
       "      <td>Comedy,Documentary,Drama</td>\n",
       "      <td>Drama</td>\n",
       "    </tr>\n",
       "    <tr>\n",
       "      <th>3</th>\n",
       "      <td>8</td>\n",
       "      <td>243963</td>\n",
       "      <td>3</td>\n",
       "      <td>Comedy,Documentary,Drama</td>\n",
       "      <td>Comedy</td>\n",
       "    </tr>\n",
       "    <tr>\n",
       "      <th>4</th>\n",
       "      <td>8</td>\n",
       "      <td>243963</td>\n",
       "      <td>3</td>\n",
       "      <td>Comedy,Documentary,Drama</td>\n",
       "      <td>Documentary</td>\n",
       "    </tr>\n",
       "  </tbody>\n",
       "</table>\n",
       "</div>"
      ],
      "text/plain": [
       "   Movie_Id  CustomerID  Rating                    genres    genre_exp\n",
       "0         8      785314       1  Comedy,Documentary,Drama       Comedy\n",
       "1         8      785314       1  Comedy,Documentary,Drama  Documentary\n",
       "2         8      785314       1  Comedy,Documentary,Drama        Drama\n",
       "3         8      243963       3  Comedy,Documentary,Drama       Comedy\n",
       "4         8      243963       3  Comedy,Documentary,Drama  Documentary"
      ]
     },
     "execution_count": 16,
     "metadata": {},
     "output_type": "execute_result"
    }
   ],
   "source": [
    "## Explode the genre column\n",
    "def explode_genre(row, exclude):\n",
    "    rows = []\n",
    "    genres = row[-1].split(',')\n",
    "    for genre in genres:\n",
    "        if genre not in exclude:\n",
    "            new_row = row\n",
    "            new_row = np.append(new_row, [genre])\n",
    "            rows += [new_row]\n",
    "    return rows\n",
    "\n",
    "def explode(df, exclude):\n",
    "    new_df = []\n",
    "    print('[', end='')\n",
    "    df = df.to_numpy()\n",
    "    n = len(df)\n",
    "    for i in range(n):\n",
    "        row = df[i]\n",
    "        new_df += explode_genre(row, exclude)\n",
    "        if(i%(len(df)//10) == 0):\n",
    "            print('|', end='')\n",
    "    del(df)\n",
    "    print(f'] Done\\tnew_length={len(new_df)}')\n",
    "    return new_df\n",
    "\n",
    "exp_npy = explode(new_ratings, delete)\n",
    "col = list(new_ratings.columns) + ['genre_exp']\n",
    "del(new_ratings)\n",
    "del(conn)\n",
    "del(freq_genre)\n",
    "new_ratings = pd.DataFrame(exp_npy, columns=col)\n",
    "del(exp_npy)\n",
    "new_ratings.head()"
   ]
  },
  {
   "cell_type": "code",
   "execution_count": 17,
   "id": "ecceefe5",
   "metadata": {},
   "outputs": [],
   "source": [
    "new_ratings = new_ratings[['CustomerID', 'Movie_Id', 'genre_exp', 'Rating']]"
   ]
  },
  {
   "cell_type": "code",
   "execution_count": 2,
   "id": "e34abcbf",
   "metadata": {},
   "outputs": [],
   "source": [
    "## Run to ssave or run above csv (to reset kernel and save memory)\n",
    "# new_ratings.to_csv('../data/ntfx_ratings_and_genres.csv')\n",
    "new_ratings = pd.read_csv('../data/ntfx_ratings_and_genres.csv')\n",
    "# new_ratings_train = new_ratings.sample(int(89494247*0.6))\n",
    "# new_ratings_train.to_csv('../data/train_ntfx_ratings_and_genres.csv')\n",
    "# new_ratings_test = new_ratings[~new_ratings.isin(new_ratings_train)]\n",
    "# new_ratings_test = new_ratings_test[new_ratings_test['CustomerID'].isin(new_ratings_train['CustomerID'])]\n",
    "# new_ratings_test.to_csv('../data/test_ntfx_ratings_and_genres.csv')\n",
    "# new_ratings_train =pd.read_csv('../data/train_ntfx_ratings_and_genres.csv')\n",
    "# new_ratings_test =pd.read_csv('../data/test_ntfx_ratings_and_genres.csv')"
   ]
  },
  {
   "cell_type": "code",
   "execution_count": 4,
   "id": "dd1d451f",
   "metadata": {},
   "outputs": [],
   "source": [
    "reader = Reader()\n",
    "\n",
    "data = Dataset.load_from_df(new_ratings[['CustomerID', 'genre_exp', 'Rating']], reader)\n",
    "del(new_ratings)\n",
    "svd1 = SVD()"
   ]
  },
  {
   "cell_type": "code",
   "execution_count": 3,
   "id": "c500ccd9",
   "metadata": {},
   "outputs": [
    {
     "data": {
      "text/plain": [
       "{'test_rmse': array([0.8878395 , 0.88770821, 0.88801972, 0.88752251, 0.8877624 ]),\n",
       " 'test_mae': array([0.71907795, 0.71821666, 0.71824355, 0.7179755 , 0.717723  ]),\n",
       " 'fit_time': (600.9166688919067,\n",
       "  603.4310672283173,\n",
       "  602.8181791305542,\n",
       "  603.8718183040619,\n",
       "  599.3855788707733),\n",
       " 'test_time': (202.50324010849,\n",
       "  137.48147082328796,\n",
       "  128.2964267730713,\n",
       "  203.58900117874146,\n",
       "  120.58939504623413)}"
      ]
     },
     "execution_count": 3,
     "metadata": {},
     "output_type": "execute_result"
    }
   ],
   "source": [
    "cross_validate(svd1, data, measures=['RMSE', 'MAE'], cv=5)"
   ]
  },
  {
   "cell_type": "code",
   "execution_count": 5,
   "id": "40782107",
   "metadata": {},
   "outputs": [
    {
     "data": {
      "text/plain": [
       "<surprise.prediction_algorithms.matrix_factorization.SVD at 0x7fd52ef21e50>"
      ]
     },
     "execution_count": 5,
     "metadata": {},
     "output_type": "execute_result"
    }
   ],
   "source": [
    "trainset, testset = train_test_split(data, test_size=0.4, random_state=1)\n",
    "del(data)\n",
    "svd1.fit(trainset)"
   ]
  },
  {
   "cell_type": "code",
   "execution_count": 6,
   "id": "c86cd475",
   "metadata": {},
   "outputs": [
    {
     "name": "stdout",
     "output_type": "stream",
     "text": [
      "RMSE: 0.8881\n"
     ]
    },
    {
     "data": {
      "text/plain": [
       "0.8880798306023862"
      ]
     },
     "execution_count": 6,
     "metadata": {},
     "output_type": "execute_result"
    }
   ],
   "source": [
    "pred = svd1.test(testset)\n",
    "accuracy.rmse(pred)"
   ]
  },
  {
   "cell_type": "code",
   "execution_count": 3,
   "id": "2ea123fd",
   "metadata": {},
   "outputs": [],
   "source": [
    "import pickle\n",
    "\n",
    "def saveModel(filename, model):\n",
    "    with open(filename, 'wb') as f:\n",
    "        pickle.dump(model, f)\n",
    "\n",
    "def loadModel(filename):\n",
    "    with open(filename, 'rb') as f:\n",
    "        return pickle.load(f)\n",
    "\n",
    "# test_svd = loadModel(filename)"
   ]
  },
  {
   "cell_type": "code",
   "execution_count": 13,
   "id": "d0dcd81a",
   "metadata": {},
   "outputs": [],
   "source": [
    "filename = '../data/genre_svd_model'\n",
    "# saveModel(filename, svd1)"
   ]
  },
  {
   "cell_type": "code",
   "execution_count": 14,
   "id": "0c5a0134",
   "metadata": {},
   "outputs": [],
   "source": [
    "filename = '../data/genre_testset'\n",
    "# saveModel(filename, testset)"
   ]
  },
  {
   "cell_type": "code",
   "execution_count": 3,
   "id": "af4a595e",
   "metadata": {},
   "outputs": [],
   "source": [
    "reader = Reader()\n",
    "new_ratings = new_ratings[['CustomerID', 'Movie_Id', 'Rating']].drop_duplicates()\n",
    "data = Dataset.load_from_df(new_ratings, reader)\n",
    "del(new_ratings)\n",
    "svd2 = SVD()"
   ]
  },
  {
   "cell_type": "code",
   "execution_count": 4,
   "id": "47952a2e",
   "metadata": {},
   "outputs": [
    {
     "data": {
      "text/plain": [
       "{'test_rmse': array([0.7376177 , 0.73766638, 0.73786179, 0.73790282, 0.7380553 ]),\n",
       " 'test_mae': array([0.58279059, 0.58281425, 0.58297482, 0.5829652 , 0.5831612 ]),\n",
       " 'fit_time': (406.6788065433502,\n",
       "  428.40667033195496,\n",
       "  427.3528952598572,\n",
       "  426.79230999946594,\n",
       "  420.9851379394531),\n",
       " 'test_time': (117.49416637420654,\n",
       "  80.32076692581177,\n",
       "  100.83745884895325,\n",
       "  80.6466212272644,\n",
       "  86.78982901573181)}"
      ]
     },
     "execution_count": 4,
     "metadata": {},
     "output_type": "execute_result"
    }
   ],
   "source": [
    "cross_validate(svd2, data, measures=['RMSE', 'MAE'], cv=5)"
   ]
  },
  {
   "cell_type": "code",
   "execution_count": null,
   "id": "1db6b4eb",
   "metadata": {},
   "outputs": [],
   "source": [
    "4+5"
   ]
  },
  {
   "cell_type": "code",
   "execution_count": 6,
   "id": "30494159",
   "metadata": {},
   "outputs": [
    {
     "data": {
      "text/plain": [
       "<surprise.prediction_algorithms.matrix_factorization.SVD at 0x7f0fe3464670>"
      ]
     },
     "execution_count": 6,
     "metadata": {},
     "output_type": "execute_result"
    }
   ],
   "source": [
    "trainset, testset = train_test_split(data, test_size=0.4, random_state=1)\n",
    "del(data)\n",
    "svd2.fit(trainset)"
   ]
  },
  {
   "cell_type": "code",
   "execution_count": 7,
   "id": "ed6f984a",
   "metadata": {},
   "outputs": [
    {
     "name": "stdout",
     "output_type": "stream",
     "text": [
      "RMSE: 0.6882\n"
     ]
    },
    {
     "data": {
      "text/plain": [
       "0.6881834454835424"
      ]
     },
     "execution_count": 7,
     "metadata": {},
     "output_type": "execute_result"
    }
   ],
   "source": [
    "pred = svd2.test(testset)\n",
    "accuracy.rmse(pred)"
   ]
  },
  {
   "cell_type": "code",
   "execution_count": 8,
   "id": "e704d14d",
   "metadata": {},
   "outputs": [],
   "source": [
    "filename = '../data/movie_svd_model'\n",
    "# saveModel(filename, svd2)\n",
    "filename = '../data/movie_testset'\n",
    "# saveModel(filename, testset)"
   ]
  },
  {
   "cell_type": "code",
   "execution_count": 4,
   "id": "a4b38524",
   "metadata": {},
   "outputs": [],
   "source": [
    "filename = '../data/genre_svd_model'\n",
    "# svd1 = loadModel(filename) # genre model\n",
    "filename = '../data/genre_testset'\n",
    "# testset1 = loadModel(filename) \n",
    "filename = '../data/movie_svd_model'\n",
    "# svd2 = loadModel(filename) # movie model\n",
    "filename = '../data/movie_testset'\n",
    "# testset2 = loadModel(filename) # CustomerID, MovieID, Rating\n",
    "filename = '../data/combined_testset'\n",
    "comb_testset = loadModel(filename) # pandas dataset for combined testsets with rating results"
   ]
  },
  {
   "cell_type": "code",
   "execution_count": 5,
   "id": "a50866b0",
   "metadata": {},
   "outputs": [
    {
     "data": {
      "text/html": [
       "<div>\n",
       "<style scoped>\n",
       "    .dataframe tbody tr th:only-of-type {\n",
       "        vertical-align: middle;\n",
       "    }\n",
       "\n",
       "    .dataframe tbody tr th {\n",
       "        vertical-align: top;\n",
       "    }\n",
       "\n",
       "    .dataframe thead th {\n",
       "        text-align: right;\n",
       "    }\n",
       "</style>\n",
       "<table border=\"1\" class=\"dataframe\">\n",
       "  <thead>\n",
       "    <tr style=\"text-align: right;\">\n",
       "      <th></th>\n",
       "      <th>CustomerID</th>\n",
       "      <th>Movie_Id</th>\n",
       "      <th>Rating_x</th>\n",
       "      <th>Unnamed: 0</th>\n",
       "      <th>genre_exp</th>\n",
       "      <th>Rating_y</th>\n",
       "      <th>movie_pred</th>\n",
       "      <th>genre_pred</th>\n",
       "    </tr>\n",
       "  </thead>\n",
       "  <tbody>\n",
       "    <tr>\n",
       "      <th>0</th>\n",
       "      <td>2519865</td>\n",
       "      <td>7713</td>\n",
       "      <td>3.0</td>\n",
       "      <td>39079677</td>\n",
       "      <td>Comedy</td>\n",
       "      <td>3</td>\n",
       "      <td>3.890008</td>\n",
       "      <td>3.990738</td>\n",
       "    </tr>\n",
       "    <tr>\n",
       "      <th>1</th>\n",
       "      <td>2519865</td>\n",
       "      <td>7713</td>\n",
       "      <td>3.0</td>\n",
       "      <td>39079678</td>\n",
       "      <td>Horror</td>\n",
       "      <td>3</td>\n",
       "      <td>3.890008</td>\n",
       "      <td>3.960025</td>\n",
       "    </tr>\n",
       "    <tr>\n",
       "      <th>2</th>\n",
       "      <td>1315370</td>\n",
       "      <td>10451</td>\n",
       "      <td>5.0</td>\n",
       "      <td>51174840</td>\n",
       "      <td>Crime</td>\n",
       "      <td>5</td>\n",
       "      <td>3.704715</td>\n",
       "      <td>4.329966</td>\n",
       "    </tr>\n",
       "    <tr>\n",
       "      <th>3</th>\n",
       "      <td>1315370</td>\n",
       "      <td>10451</td>\n",
       "      <td>5.0</td>\n",
       "      <td>51174841</td>\n",
       "      <td>Sci-Fi</td>\n",
       "      <td>5</td>\n",
       "      <td>3.704715</td>\n",
       "      <td>4.157865</td>\n",
       "    </tr>\n",
       "    <tr>\n",
       "      <th>4</th>\n",
       "      <td>2015904</td>\n",
       "      <td>14978</td>\n",
       "      <td>3.0</td>\n",
       "      <td>74564131</td>\n",
       "      <td>Action</td>\n",
       "      <td>3</td>\n",
       "      <td>4.089476</td>\n",
       "      <td>3.403297</td>\n",
       "    </tr>\n",
       "  </tbody>\n",
       "</table>\n",
       "</div>"
      ],
      "text/plain": [
       "   CustomerID  Movie_Id  Rating_x  Unnamed: 0 genre_exp  Rating_y  movie_pred  \\\n",
       "0     2519865      7713       3.0    39079677    Comedy         3    3.890008   \n",
       "1     2519865      7713       3.0    39079678    Horror         3    3.890008   \n",
       "2     1315370     10451       5.0    51174840     Crime         5    3.704715   \n",
       "3     1315370     10451       5.0    51174841    Sci-Fi         5    3.704715   \n",
       "4     2015904     14978       3.0    74564131    Action         3    4.089476   \n",
       "\n",
       "   genre_pred  \n",
       "0    3.990738  \n",
       "1    3.960025  \n",
       "2    4.329966  \n",
       "3    4.157865  \n",
       "4    3.403297  "
      ]
     },
     "execution_count": 5,
     "metadata": {},
     "output_type": "execute_result"
    }
   ],
   "source": [
    "comb_testset.head()"
   ]
  },
  {
   "cell_type": "code",
   "execution_count": 6,
   "id": "ce2810ee",
   "metadata": {},
   "outputs": [],
   "source": [
    "data_genre = comb_testset[['CustomerID', 'genre_exp']].to_numpy()"
   ]
  },
  {
   "cell_type": "code",
   "execution_count": 7,
   "id": "1d3553a0",
   "metadata": {},
   "outputs": [],
   "source": [
    "preds = []\n",
    "for val in data_genre:\n",
    "    pred = svd1.predict(*val)\n",
    "    if not pred.details['was_impossible']:\n",
    "        preds += [pred.est]\n",
    "    else:\n",
    "        preds += [-1]"
   ]
  },
  {
   "cell_type": "code",
   "execution_count": 8,
   "id": "ae3e797a",
   "metadata": {},
   "outputs": [
    {
     "data": {
      "text/plain": [
       "96540075"
      ]
     },
     "execution_count": 8,
     "metadata": {},
     "output_type": "execute_result"
    }
   ],
   "source": [
    "len(preds)"
   ]
  },
  {
   "cell_type": "code",
   "execution_count": 9,
   "id": "503c83d8",
   "metadata": {},
   "outputs": [],
   "source": [
    "comb_testset['genre_pred'] = preds"
   ]
  },
  {
   "cell_type": "code",
   "execution_count": 10,
   "id": "7e0cabb8",
   "metadata": {},
   "outputs": [],
   "source": [
    "filename = '../data/combined_testset'\n",
    "# saveModel(filename, comb_testset)"
   ]
  },
  {
   "cell_type": "code",
   "execution_count": 6,
   "id": "338de79e",
   "metadata": {},
   "outputs": [
    {
     "data": {
      "text/html": [
       "<div>\n",
       "<style scoped>\n",
       "    .dataframe tbody tr th:only-of-type {\n",
       "        vertical-align: middle;\n",
       "    }\n",
       "\n",
       "    .dataframe tbody tr th {\n",
       "        vertical-align: top;\n",
       "    }\n",
       "\n",
       "    .dataframe thead th {\n",
       "        text-align: right;\n",
       "    }\n",
       "</style>\n",
       "<table border=\"1\" class=\"dataframe\">\n",
       "  <thead>\n",
       "    <tr style=\"text-align: right;\">\n",
       "      <th></th>\n",
       "      <th>CustomerID</th>\n",
       "      <th>Movie_Id</th>\n",
       "      <th>Rating_x</th>\n",
       "      <th>Unnamed: 0</th>\n",
       "      <th>genre_exp</th>\n",
       "      <th>Rating_y</th>\n",
       "      <th>movie_pred</th>\n",
       "      <th>genre_pred</th>\n",
       "      <th>pred_rating</th>\n",
       "    </tr>\n",
       "  </thead>\n",
       "  <tbody>\n",
       "    <tr>\n",
       "      <th>0</th>\n",
       "      <td>2519865</td>\n",
       "      <td>7713</td>\n",
       "      <td>3.0</td>\n",
       "      <td>39079677</td>\n",
       "      <td>Comedy</td>\n",
       "      <td>3</td>\n",
       "      <td>3.890008</td>\n",
       "      <td>3.990738</td>\n",
       "      <td>3.940373</td>\n",
       "    </tr>\n",
       "    <tr>\n",
       "      <th>1</th>\n",
       "      <td>2519865</td>\n",
       "      <td>7713</td>\n",
       "      <td>3.0</td>\n",
       "      <td>39079678</td>\n",
       "      <td>Horror</td>\n",
       "      <td>3</td>\n",
       "      <td>3.890008</td>\n",
       "      <td>3.960025</td>\n",
       "      <td>3.925017</td>\n",
       "    </tr>\n",
       "    <tr>\n",
       "      <th>2</th>\n",
       "      <td>1315370</td>\n",
       "      <td>10451</td>\n",
       "      <td>5.0</td>\n",
       "      <td>51174840</td>\n",
       "      <td>Crime</td>\n",
       "      <td>5</td>\n",
       "      <td>3.704715</td>\n",
       "      <td>4.329966</td>\n",
       "      <td>4.017340</td>\n",
       "    </tr>\n",
       "    <tr>\n",
       "      <th>3</th>\n",
       "      <td>1315370</td>\n",
       "      <td>10451</td>\n",
       "      <td>5.0</td>\n",
       "      <td>51174841</td>\n",
       "      <td>Sci-Fi</td>\n",
       "      <td>5</td>\n",
       "      <td>3.704715</td>\n",
       "      <td>4.157865</td>\n",
       "      <td>3.931290</td>\n",
       "    </tr>\n",
       "    <tr>\n",
       "      <th>4</th>\n",
       "      <td>2015904</td>\n",
       "      <td>14978</td>\n",
       "      <td>3.0</td>\n",
       "      <td>74564131</td>\n",
       "      <td>Action</td>\n",
       "      <td>3</td>\n",
       "      <td>4.089476</td>\n",
       "      <td>3.403297</td>\n",
       "      <td>3.746387</td>\n",
       "    </tr>\n",
       "  </tbody>\n",
       "</table>\n",
       "</div>"
      ],
      "text/plain": [
       "   CustomerID  Movie_Id  Rating_x  Unnamed: 0 genre_exp  Rating_y  movie_pred  \\\n",
       "0     2519865      7713       3.0    39079677    Comedy         3    3.890008   \n",
       "1     2519865      7713       3.0    39079678    Horror         3    3.890008   \n",
       "2     1315370     10451       5.0    51174840     Crime         5    3.704715   \n",
       "3     1315370     10451       5.0    51174841    Sci-Fi         5    3.704715   \n",
       "4     2015904     14978       3.0    74564131    Action         3    4.089476   \n",
       "\n",
       "   genre_pred  pred_rating  \n",
       "0    3.990738     3.940373  \n",
       "1    3.960025     3.925017  \n",
       "2    4.329966     4.017340  \n",
       "3    4.157865     3.931290  \n",
       "4    3.403297     3.746387  "
      ]
     },
     "execution_count": 6,
     "metadata": {},
     "output_type": "execute_result"
    }
   ],
   "source": [
    "## Basic averaging of model results\n",
    "comb_testset['pred_rating'] = (comb_testset['movie_pred'] + comb_testset['genre_pred'])/2\n",
    "comb_testset.head()"
   ]
  },
  {
   "cell_type": "code",
   "execution_count": 7,
   "id": "9b3ab3fe",
   "metadata": {},
   "outputs": [
    {
     "data": {
      "text/plain": [
       "0.7490367017465918"
      ]
     },
     "execution_count": 7,
     "metadata": {},
     "output_type": "execute_result"
    }
   ],
   "source": [
    "## Find RMSE between true rating and averaged predicted rating\n",
    "rms = mean_squared_error(comb_testset['Rating_x'], comb_testset['pred_rating'], squared=False)\n",
    "rms"
   ]
  },
  {
   "cell_type": "code",
   "execution_count": 10,
   "id": "7fdd737f",
   "metadata": {},
   "outputs": [
    {
     "data": {
      "text/plain": [
       "0.6030799041658691"
      ]
     },
     "execution_count": 10,
     "metadata": {},
     "output_type": "execute_result"
    }
   ],
   "source": [
    "mae = mean_absolute_error(comb_testset['Rating_x'], comb_testset['pred_rating'])\n",
    "mae"
   ]
  },
  {
   "cell_type": "markdown",
   "id": "17ae4324",
   "metadata": {},
   "source": [
    "[1]   \n",
    "[2] https://sifter.org/~simon/journal/20061211.html  \n",
    "[3] https://surprise.readthedocs.io/en/stable/index.html\n"
   ]
  },
  {
   "cell_type": "code",
   "execution_count": null,
   "id": "5fad013d",
   "metadata": {},
   "outputs": [],
   "source": []
  }
 ],
 "metadata": {
  "kernelspec": {
   "display_name": "Python 3 (ipykernel)",
   "language": "python",
   "name": "python3"
  },
  "language_info": {
   "codemirror_mode": {
    "name": "ipython",
    "version": 3
   },
   "file_extension": ".py",
   "mimetype": "text/x-python",
   "name": "python",
   "nbconvert_exporter": "python",
   "pygments_lexer": "ipython3",
   "version": "3.8.10"
  }
 },
 "nbformat": 4,
 "nbformat_minor": 5
}
