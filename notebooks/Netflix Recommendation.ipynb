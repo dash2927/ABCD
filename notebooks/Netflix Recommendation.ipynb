{
 "cells": [
  {
   "cell_type": "markdown",
   "id": "ba394247",
   "metadata": {},
   "source": [
    "# Netflix Recommendation\n",
    "#### <span style=\"color: cornflowerblue\">Team 01 | CSPB 4502 | 11/16/22</span>"
   ]
  },
  {
   "cell_type": "markdown",
   "id": "ef3ded62",
   "metadata": {},
   "source": [
    "The following is a base recommendation using only the netflix dataset."
   ]
  },
  {
   "cell_type": "code",
   "execution_count": 3,
   "id": "f37dec7c",
   "metadata": {},
   "outputs": [],
   "source": [
    "# LIBRARIES USED\n",
    "import pandas as pd\n",
    "import numpy as np\n",
    "import re\n",
    "import matplotlib.pyplot as plt\n",
    "import seaborn as sns\n",
    "from io import StringIO\n",
    "from sklearn.metrics.pairwise import cosine_similarity"
   ]
  },
  {
   "cell_type": "markdown",
   "id": "1c9e0e09",
   "metadata": {},
   "source": [
    "<span style=\"color: cornflowerblue\">Import Dataset and Combine</span>"
   ]
  },
  {
   "cell_type": "code",
   "execution_count": 4,
   "id": "e7b02dd3",
   "metadata": {},
   "outputs": [
    {
     "name": "stdout",
     "output_type": "stream",
     "text": [
      "Netflix Movie Names:\n",
      "ntfx.shape = (17763, 3)\n",
      "   Movie_Id  Year                          Name\n",
      "0         1  2003               Dinosaur Planet\n",
      "1         2  2004    Isle of Man TT 2004 Review\n",
      "2         3  1997                     Character\n",
      "3         4  1994  Paula Abdul's Get Up & Dance\n",
      "4         5  2004      The Rise and Fall of ECW\n",
      "Netflix Movie Ratings:\n"
     ]
    }
   ],
   "source": [
    "# IMPORT NETFLIX MOVIE NAMES\n",
    "netflix_movie_titles = \"../data/netflix/movie_titles.csv\"\n",
    "\n",
    "def manual_sep(old_split):\n",
    "    new_split = old_split[0:2] + [\",\".join(old_split[2:])]\n",
    "    return new_split\n",
    "    \n",
    "ntfx = pd.read_csv(netflix_movie_titles,\n",
    "                   encoding = \"ISO-8859-1\",\n",
    "                   header = None,\n",
    "                   names = ['Movie_Id', 'Year', 'Name'],\n",
    "                   on_bad_lines=manual_sep,\n",
    "                   engine='python')\n",
    "ntfx.dropna(subset='Year', inplace=True)\n",
    "ntfx['Year'] = ntfx['Year'].astype(\"Int64\")\n",
    "print(\"Netflix Movie Names:\")\n",
    "print(f'{ntfx.shape = }')\n",
    "print(ntfx.head().to_string())\n",
    "print(\"Netflix Movie Ratings:\")"
   ]
  },
  {
   "cell_type": "code",
   "execution_count": 5,
   "id": "6d101b9f",
   "metadata": {},
   "outputs": [
    {
     "name": "stdout",
     "output_type": "stream",
     "text": [
      "reading file ../data/netflix/combined_data_1.txt\n",
      "reading file ../data/netflix/combined_data_2.txt\n",
      "reading file ../data/netflix/combined_data_3.txt\n",
      "reading file ../data/netflix/combined_data_4.txt\n",
      "reading done\n",
      "ratings.shape = (100480507, 4)\n",
      "   Movie_Id  CustomerID  Rating        Date\n",
      "0         1     1488844       3  2005-09-06\n",
      "1         1      822109       5  2005-05-13\n",
      "2         1      885013       4  2005-10-19\n",
      "3         1       30878       4  2005-12-26\n",
      "4         1      823519       3  2004-05-03\n"
     ]
    }
   ],
   "source": [
    "# IMPORT NETFLIX MOVIE RATINGS AND COMBINE\n",
    "netflix_movie_ratings = [f'../data/netflix/combined_data_{i}.txt' for i in range(1, 5)]\n",
    "stream = StringIO()\n",
    "movie_number = \"1\"\n",
    "for path in netflix_movie_ratings:\n",
    "    print(f'reading file {path}')\n",
    "    with open(path, \"r\") as file:\n",
    "        patrn = \"[0-9]:\"\n",
    "        for line in file:\n",
    "            if re.search(patrn, line):\n",
    "                movie_num = line.replace(\":\\n\", \"\")\n",
    "            else:\n",
    "                stream.write(movie_num+\",\"+line)\n",
    "    file.close()  \n",
    "stream.seek(0)\n",
    "print(\"reading done\")\n",
    "ratings = pd.read_csv(stream,\n",
    "                      encoding = \"ISO-8859-1\",\n",
    "                      names = ['Movie_Id', 'CustomerID', 'Rating', 'Date'],\n",
    "                      engine='c')\n",
    "stream.close()\n",
    "del(stream)\n",
    "print(f'{ratings.shape = }')\n",
    "print(ratings.head().to_string())"
   ]
  },
  {
   "cell_type": "code",
   "execution_count": 7,
   "id": "c5ba2451",
   "metadata": {},
   "outputs": [
    {
     "name": "stdout",
     "output_type": "stream",
     "text": [
      "17770\n",
      "480189\n"
     ]
    }
   ],
   "source": [
    "print(len(ratings['Movie_Id'].unique()))\n",
    "print(len(ratings['CustomerID'].unique()))"
   ]
  },
  {
   "cell_type": "markdown",
   "id": "79c39762",
   "metadata": {},
   "source": [
    "<span style=\"color: cornflowerblue\">Sparse Matrix</span>"
   ]
  },
  {
   "cell_type": "markdown",
   "id": "f6813f3f",
   "metadata": {},
   "source": [
    "To implement a recommendation system, we need to create a matrix (User x Movie) showing ratings, with empty ratings being filled in with -1. This will will prove to be extremely difficult for our dataset as there are 17,770 unique movies and 480,189 unique customers with 100,480,507 ratings total. This would amount to a matrix with 8,532,958,530 cells, which would be both too costly to create and take too much time. Therefore, we w"
   ]
  },
  {
   "cell_type": "code",
   "execution_count": null,
   "id": "53cb45c1",
   "metadata": {},
   "outputs": [
    {
     "name": "stderr",
     "output_type": "stream",
     "text": [
      "/var/folders/v4/2rhwzp_52gl6cbp88ml0qhmc0000gn/T/ipykernel_36464/3183881104.py:1: PerformanceWarning: The following operation may generate 8532958530 cells in the resulting pandas object.\n",
      "  ratMat = ratings.pivot_table(values=\"Rating\",index=\"CustomerID\",columns=\"Movie_Id\").fillna(-1)\n"
     ]
    }
   ],
   "source": [
    "# ratMat = ratings.pivot_table(values=\"Rating\",index=\"CustomerID\",columns=\"Movie_Id\").fillna(-1)"
   ]
  },
  {
   "cell_type": "markdown",
   "id": "f14521ee",
   "metadata": {},
   "source": [
    "This "
   ]
  }
 ],
 "metadata": {
  "kernelspec": {
   "display_name": "Python 3 (ipykernel)",
   "language": "python",
   "name": "python3"
  },
  "language_info": {
   "codemirror_mode": {
    "name": "ipython",
    "version": 3
   },
   "file_extension": ".py",
   "mimetype": "text/x-python",
   "name": "python",
   "nbconvert_exporter": "python",
   "pygments_lexer": "ipython3",
   "version": "3.9.6"
  }
 },
 "nbformat": 4,
 "nbformat_minor": 5
}
