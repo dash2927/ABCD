{
 "cells": [
  {
   "cell_type": "markdown",
   "id": "92fd039e",
   "metadata": {},
   "source": [
    "# Netflix Recommendation\n",
    "#### <span style=\"color: cornflowerblue\">Team 01 | CSPB 4502 | 11/16/22</span>"
   ]
  },
  {
   "cell_type": "markdown",
   "id": "741a42a6",
   "metadata": {},
   "source": [
    "The following is a base recommendation using only the netflix dataset."
   ]
  },
  {
   "cell_type": "code",
   "execution_count": 25,
   "id": "02e74cfc",
   "metadata": {},
   "outputs": [],
   "source": [
    "## LIBRARIES USED\n",
    "import pandas as pd\n",
    "import numpy as np\n",
    "import re\n",
    "import matplotlib.pyplot as plt\n",
    "import seaborn as sns\n",
    "from io import StringIO\n",
    "from sklearn.metrics.pairwise import cosine_similarity\n",
    "from scipy.stats import iqr\n",
    "from surprise import Dataset, SVD, Reader\n",
    "from surprise.model_selection import cross_validate"
   ]
  },
  {
   "cell_type": "markdown",
   "id": "5044243a",
   "metadata": {},
   "source": [
    "<span style=\"color: cornflowerblue\">Import Dataset and Combine</span>"
   ]
  },
  {
   "cell_type": "code",
   "execution_count": 2,
   "id": "0286d90c",
   "metadata": {},
   "outputs": [
    {
     "name": "stdout",
     "output_type": "stream",
     "text": [
      "Netflix Movie Names:\n",
      "ntfx.shape = (17763, 3)\n",
      "   Movie_Id  Year                          Name\n",
      "0         1  2003               Dinosaur Planet\n",
      "1         2  2004    Isle of Man TT 2004 Review\n",
      "2         3  1997                     Character\n",
      "3         4  1994  Paula Abdul's Get Up & Dance\n",
      "4         5  2004      The Rise and Fall of ECW\n",
      "Netflix Movie Ratings:\n"
     ]
    }
   ],
   "source": [
    "## IMPORT NETFLIX MOVIE NAMES\n",
    "netflix_movie_titles = \"../data/netflix/movie_titles.csv\"\n",
    "\n",
    "def manual_sep(old_split):\n",
    "    new_split = old_split[0:2] + [\",\".join(old_split[2:])]\n",
    "    return new_split\n",
    "    \n",
    "ntfx = pd.read_csv(netflix_movie_titles,\n",
    "                   encoding = \"ISO-8859-1\",\n",
    "                   header = None,\n",
    "                   names = ['Movie_Id', 'Year', 'Name'],\n",
    "                   on_bad_lines=manual_sep,\n",
    "                   engine='python')\n",
    "ntfx.dropna(subset='Year', inplace=True)\n",
    "ntfx['Year'] = ntfx['Year'].astype(\"Int64\")\n",
    "print(\"Netflix Movie Names:\")\n",
    "print(f'{ntfx.shape = }')\n",
    "print(ntfx.head().to_string())\n",
    "print(\"Netflix Movie Ratings:\")"
   ]
  },
  {
   "cell_type": "code",
   "execution_count": 3,
   "id": "81cdea4b",
   "metadata": {},
   "outputs": [
    {
     "name": "stdout",
     "output_type": "stream",
     "text": [
      "reading file ../data/netflix/combined_data_1.txt\n",
      "reading file ../data/netflix/combined_data_2.txt\n",
      "reading file ../data/netflix/combined_data_3.txt\n",
      "reading file ../data/netflix/combined_data_4.txt\n",
      "reading done\n",
      "ratings.shape = (100480507, 4)\n",
      "   Movie_Id  CustomerID  Rating        Date\n",
      "0         1     1488844       3  2005-09-06\n",
      "1         1      822109       5  2005-05-13\n",
      "2         1      885013       4  2005-10-19\n",
      "3         1       30878       4  2005-12-26\n",
      "4         1      823519       3  2004-05-03\n"
     ]
    }
   ],
   "source": [
    "## IMPORT NETFLIX MOVIE RATINGS AND COMBINE\n",
    "netflix_movie_ratings = [f'../data/netflix/combined_data_{i}.txt' for i in range(1, 5)]\n",
    "stream = StringIO()\n",
    "movie_number = \"1\"\n",
    "for path in netflix_movie_ratings:\n",
    "    print(f'reading file {path}')\n",
    "    with open(path, \"r\") as file:\n",
    "        patrn = \"[0-9]:\"\n",
    "        for line in file:\n",
    "            if re.search(patrn, line):\n",
    "                movie_num = line.replace(\":\\n\", \"\")\n",
    "            else:\n",
    "                stream.write(movie_num+\",\"+line)\n",
    "    file.close()  \n",
    "stream.seek(0)\n",
    "print(\"reading done\")\n",
    "ratings = pd.read_csv(stream,\n",
    "                      encoding = \"ISO-8859-1\",\n",
    "                      names = ['Movie_Id', 'CustomerID', 'Rating', 'Date'],\n",
    "                      engine='c')\n",
    "stream.close()\n",
    "del(stream)\n",
    "print(f'{ratings.shape = }')\n",
    "print(ratings.head().to_string())"
   ]
  },
  {
   "cell_type": "code",
   "execution_count": 4,
   "id": "26eb3e1c",
   "metadata": {},
   "outputs": [
    {
     "name": "stdout",
     "output_type": "stream",
     "text": [
      "Number of Movies: 17770\n",
      "Number of Customers: 480189\n",
      "Total number of Reviews: 100480507\n"
     ]
    }
   ],
   "source": [
    "print(f'Number of Movies: {len(ratings[\"Movie_Id\"].unique())}')\n",
    "print(f'Number of Customers: {len(ratings[\"CustomerID\"].unique())}')\n",
    "print(f'Total number of Reviews: {len(ratings)}')"
   ]
  },
  {
   "cell_type": "markdown",
   "id": "9948630a",
   "metadata": {},
   "source": [
    "<span style=\"color: cornflowerblue\">Collaborative Filtering</span>"
   ]
  },
  {
   "cell_type": "markdown",
   "id": "72b84802",
   "metadata": {},
   "source": [
    "There are a few ways we can build a recommendation system. Unfortunately, since the dataset we are using is so large, it is extremely difficult to do anything substantial without a high computation and time cost. For example, a very common step in recommendation systems is to create a sparcity matrix. If we did not make any adjustments to out dataset, we would need a sparcity matrix which contained inforamtion for 17,770 unique movies and 480,189 unique customers with 100,480,507 ratings total. This would amount to a matrix with 8,532,958,530 cells in total - sometyhing that would take too much time and too much computational resources.  \n",
    "One way to get past this is through \"on-the-fly\" collaborative filtering. Collaborative filtering is a technique which uses only information for rating profiles fropm different users or items.$^{[1]}$ In order to do this, they locate similar users or items that are in the nearest neighborhood and generate recommendations based on the inforamtion given.  \n",
    "There are two major types of collaborative filtering - user based filtering and item based filtering. In user based filtering, we look for similar users and base the decision making on the choices made by the set of users. In item based collaboration, we look for similar items based on the items that have already been chosen.  \n",
    "What we can do is instead of calculating everything at once, we can caluclate recommendations based on who the custyomer is and compare it with customers that are similar. This greatly cuts down computation by eliminating datapoints which aren't very similar. The issue with this is that since we are only computing recommendations for single customers in the moment, and because we are only looking at correlation values, it becomes difficult to produce any type of metric. "
   ]
  },
  {
   "cell_type": "markdown",
   "id": "b4154411",
   "metadata": {},
   "source": [
    "For collaboration, we have created a script to run which will get the get the top similar users based on a specified threshold:"
   ]
  },
  {
   "cell_type": "code",
   "execution_count": 5,
   "id": "e0311d33",
   "metadata": {},
   "outputs": [],
   "source": [
    "import scripts.filtering as uf"
   ]
  },
  {
   "cell_type": "code",
   "execution_count": 6,
   "id": "dea72c6c",
   "metadata": {},
   "outputs": [],
   "source": [
    "## Define variables and create a similarity filtering object\n",
    "movie_thresh = 0.6    # threshold proportion of random_ID's movies that a user must have rated to be retained\n",
    "rho_thresh = 0.4   # threshold a user's correlation coefficient must meet to be retained\n",
    "\n",
    "user_filter = uf.SimilarityFiltering(ratings,\n",
    "                                     movie_thresh=movie_thresh,\n",
    "                                     rho_thresh=rho_thresh,\n",
    "                                     random_state=2)"
   ]
  },
  {
   "cell_type": "code",
   "execution_count": 7,
   "id": "b3e98087",
   "metadata": {
    "scrolled": true
   },
   "outputs": [
    {
     "data": {
      "text/html": [
       "<div>\n",
       "<style scoped>\n",
       "    .dataframe tbody tr th:only-of-type {\n",
       "        vertical-align: middle;\n",
       "    }\n",
       "\n",
       "    .dataframe tbody tr th {\n",
       "        vertical-align: top;\n",
       "    }\n",
       "\n",
       "    .dataframe thead th {\n",
       "        text-align: right;\n",
       "    }\n",
       "</style>\n",
       "<table border=\"1\" class=\"dataframe\">\n",
       "  <thead>\n",
       "    <tr style=\"text-align: right;\">\n",
       "      <th></th>\n",
       "      <th>Movie_Id</th>\n",
       "      <th>CustomerID</th>\n",
       "      <th>Rating</th>\n",
       "      <th>Date</th>\n",
       "      <th>corr</th>\n",
       "    </tr>\n",
       "  </thead>\n",
       "  <tbody>\n",
       "    <tr>\n",
       "      <th>185471</th>\n",
       "      <td>11846</td>\n",
       "      <td>1180814</td>\n",
       "      <td>4</td>\n",
       "      <td>2004-08-20</td>\n",
       "      <td>0.589639</td>\n",
       "    </tr>\n",
       "    <tr>\n",
       "      <th>185698</th>\n",
       "      <td>17716</td>\n",
       "      <td>1180814</td>\n",
       "      <td>4</td>\n",
       "      <td>2005-10-21</td>\n",
       "      <td>0.589639</td>\n",
       "    </tr>\n",
       "    <tr>\n",
       "      <th>185696</th>\n",
       "      <td>17681</td>\n",
       "      <td>1180814</td>\n",
       "      <td>4</td>\n",
       "      <td>2005-01-10</td>\n",
       "      <td>0.589639</td>\n",
       "    </tr>\n",
       "    <tr>\n",
       "      <th>185695</th>\n",
       "      <td>17671</td>\n",
       "      <td>1180814</td>\n",
       "      <td>4</td>\n",
       "      <td>2005-04-12</td>\n",
       "      <td>0.589639</td>\n",
       "    </tr>\n",
       "    <tr>\n",
       "      <th>185694</th>\n",
       "      <td>17662</td>\n",
       "      <td>1180814</td>\n",
       "      <td>3</td>\n",
       "      <td>2005-02-14</td>\n",
       "      <td>0.589639</td>\n",
       "    </tr>\n",
       "  </tbody>\n",
       "</table>\n",
       "</div>"
      ],
      "text/plain": [
       "        Movie_Id  CustomerID  Rating        Date      corr\n",
       "185471     11846     1180814       4  2004-08-20  0.589639\n",
       "185698     17716     1180814       4  2005-10-21  0.589639\n",
       "185696     17681     1180814       4  2005-01-10  0.589639\n",
       "185695     17671     1180814       4  2005-04-12  0.589639\n",
       "185694     17662     1180814       3  2005-02-14  0.589639"
      ]
     },
     "execution_count": 7,
     "metadata": {},
     "output_type": "execute_result"
    }
   ],
   "source": [
    "## Getting user similarity based on chosen movies for customer 10\n",
    "user_filter.getUserSimilarity(531050, \"Movie_Id\")\n",
    "user_filter.similar_users.sort_values('corr', ascending=False).head()"
   ]
  },
  {
   "cell_type": "markdown",
   "id": "88940105",
   "metadata": {},
   "source": [
    "From this, we can then get a score for each movie id based on the correlation given."
   ]
  },
  {
   "cell_type": "code",
   "execution_count": 8,
   "id": "830a99ca",
   "metadata": {},
   "outputs": [
    {
     "data": {
      "text/html": [
       "<div>\n",
       "<style scoped>\n",
       "    .dataframe tbody tr th:only-of-type {\n",
       "        vertical-align: middle;\n",
       "    }\n",
       "\n",
       "    .dataframe tbody tr th {\n",
       "        vertical-align: top;\n",
       "    }\n",
       "\n",
       "    .dataframe thead th {\n",
       "        text-align: right;\n",
       "    }\n",
       "</style>\n",
       "<table border=\"1\" class=\"dataframe\">\n",
       "  <thead>\n",
       "    <tr style=\"text-align: right;\">\n",
       "      <th></th>\n",
       "      <th>Movie_Id</th>\n",
       "      <th>CustomerID</th>\n",
       "      <th>Rating</th>\n",
       "      <th>Date</th>\n",
       "      <th>corr</th>\n",
       "      <th>score</th>\n",
       "    </tr>\n",
       "  </thead>\n",
       "  <tbody>\n",
       "    <tr>\n",
       "      <th>0</th>\n",
       "      <td>3</td>\n",
       "      <td>728801</td>\n",
       "      <td>4</td>\n",
       "      <td>2004-04-19</td>\n",
       "      <td>0.405044</td>\n",
       "      <td>1.620175</td>\n",
       "    </tr>\n",
       "    <tr>\n",
       "      <th>1</th>\n",
       "      <td>30</td>\n",
       "      <td>728801</td>\n",
       "      <td>2</td>\n",
       "      <td>2004-04-28</td>\n",
       "      <td>0.405044</td>\n",
       "      <td>0.810088</td>\n",
       "    </tr>\n",
       "    <tr>\n",
       "      <th>2</th>\n",
       "      <td>83</td>\n",
       "      <td>728801</td>\n",
       "      <td>4</td>\n",
       "      <td>2003-03-10</td>\n",
       "      <td>0.405044</td>\n",
       "      <td>1.620175</td>\n",
       "    </tr>\n",
       "    <tr>\n",
       "      <th>3</th>\n",
       "      <td>97</td>\n",
       "      <td>728801</td>\n",
       "      <td>4</td>\n",
       "      <td>2003-03-15</td>\n",
       "      <td>0.405044</td>\n",
       "      <td>1.620175</td>\n",
       "    </tr>\n",
       "    <tr>\n",
       "      <th>4</th>\n",
       "      <td>108</td>\n",
       "      <td>728801</td>\n",
       "      <td>3</td>\n",
       "      <td>2004-06-20</td>\n",
       "      <td>0.405044</td>\n",
       "      <td>1.215131</td>\n",
       "    </tr>\n",
       "  </tbody>\n",
       "</table>\n",
       "</div>"
      ],
      "text/plain": [
       "   Movie_Id  CustomerID  Rating        Date      corr     score\n",
       "0         3      728801       4  2004-04-19  0.405044  1.620175\n",
       "1        30      728801       2  2004-04-28  0.405044  0.810088\n",
       "2        83      728801       4  2003-03-10  0.405044  1.620175\n",
       "3        97      728801       4  2003-03-15  0.405044  1.620175\n",
       "4       108      728801       3  2004-06-20  0.405044  1.215131"
      ]
     },
     "execution_count": 8,
     "metadata": {},
     "output_type": "execute_result"
    }
   ],
   "source": [
    "## Create a score based on correlation and rating\n",
    "df = user_filter.similar_users\n",
    "df['score'] = df['corr']*df['Rating']\n",
    "df.head()"
   ]
  },
  {
   "cell_type": "code",
   "execution_count": 9,
   "id": "cd733dff",
   "metadata": {},
   "outputs": [
    {
     "data": {
      "text/html": [
       "<div>\n",
       "<style scoped>\n",
       "    .dataframe tbody tr th:only-of-type {\n",
       "        vertical-align: middle;\n",
       "    }\n",
       "\n",
       "    .dataframe tbody tr th {\n",
       "        vertical-align: top;\n",
       "    }\n",
       "\n",
       "    .dataframe thead th {\n",
       "        text-align: right;\n",
       "    }\n",
       "</style>\n",
       "<table border=\"1\" class=\"dataframe\">\n",
       "  <thead>\n",
       "    <tr style=\"text-align: right;\">\n",
       "      <th></th>\n",
       "      <th>cum_score</th>\n",
       "      <th>cum_corr</th>\n",
       "    </tr>\n",
       "    <tr>\n",
       "      <th>Movie_Id</th>\n",
       "      <th></th>\n",
       "      <th></th>\n",
       "    </tr>\n",
       "  </thead>\n",
       "  <tbody>\n",
       "    <tr>\n",
       "      <th>3</th>\n",
       "      <td>14.309206</td>\n",
       "      <td>3.873034</td>\n",
       "    </tr>\n",
       "    <tr>\n",
       "      <th>5</th>\n",
       "      <td>1.702102</td>\n",
       "      <td>0.425525</td>\n",
       "    </tr>\n",
       "    <tr>\n",
       "      <th>8</th>\n",
       "      <td>38.394871</td>\n",
       "      <td>11.912866</td>\n",
       "    </tr>\n",
       "    <tr>\n",
       "      <th>9</th>\n",
       "      <td>0.867900</td>\n",
       "      <td>0.433950</td>\n",
       "    </tr>\n",
       "    <tr>\n",
       "      <th>13</th>\n",
       "      <td>2.139101</td>\n",
       "      <td>0.427820</td>\n",
       "    </tr>\n",
       "  </tbody>\n",
       "</table>\n",
       "</div>"
      ],
      "text/plain": [
       "          cum_score   cum_corr\n",
       "Movie_Id                      \n",
       "3         14.309206   3.873034\n",
       "5          1.702102   0.425525\n",
       "8         38.394871  11.912866\n",
       "9          0.867900   0.433950\n",
       "13         2.139101   0.427820"
      ]
     },
     "execution_count": 9,
     "metadata": {},
     "output_type": "execute_result"
    }
   ],
   "source": [
    "# Get the cumulative score\n",
    "cum_df = df.groupby('Movie_Id').sum()[['score', 'corr']]\n",
    "cum_df.columns = ['cum_score', 'cum_corr']\n",
    "cum_df.head()"
   ]
  },
  {
   "cell_type": "code",
   "execution_count": 10,
   "id": "700687e9",
   "metadata": {},
   "outputs": [
    {
     "data": {
      "text/html": [
       "<div>\n",
       "<style scoped>\n",
       "    .dataframe tbody tr th:only-of-type {\n",
       "        vertical-align: middle;\n",
       "    }\n",
       "\n",
       "    .dataframe tbody tr th {\n",
       "        vertical-align: top;\n",
       "    }\n",
       "\n",
       "    .dataframe thead th {\n",
       "        text-align: right;\n",
       "    }\n",
       "</style>\n",
       "<table border=\"1\" class=\"dataframe\">\n",
       "  <thead>\n",
       "    <tr style=\"text-align: right;\">\n",
       "      <th></th>\n",
       "      <th>Recommendation_Score</th>\n",
       "      <th>Movie_Id</th>\n",
       "      <th>Year</th>\n",
       "      <th>Name</th>\n",
       "    </tr>\n",
       "  </thead>\n",
       "  <tbody>\n",
       "    <tr>\n",
       "      <th>13943</th>\n",
       "      <td>5.0</td>\n",
       "      <td>13944</td>\n",
       "      <td>1998</td>\n",
       "      <td>A Good Baby</td>\n",
       "    </tr>\n",
       "    <tr>\n",
       "      <th>9736</th>\n",
       "      <td>5.0</td>\n",
       "      <td>9737</td>\n",
       "      <td>2001</td>\n",
       "      <td>The Powerpuff Girls: Meet the Beat-Alls</td>\n",
       "    </tr>\n",
       "    <tr>\n",
       "      <th>6632</th>\n",
       "      <td>5.0</td>\n",
       "      <td>6633</td>\n",
       "      <td>2003</td>\n",
       "      <td>Foyle's War: Series 1</td>\n",
       "    </tr>\n",
       "    <tr>\n",
       "      <th>6175</th>\n",
       "      <td>5.0</td>\n",
       "      <td>6176</td>\n",
       "      <td>1983</td>\n",
       "      <td>Fraggle Rock: Season 1</td>\n",
       "    </tr>\n",
       "    <tr>\n",
       "      <th>15890</th>\n",
       "      <td>5.0</td>\n",
       "      <td>15891</td>\n",
       "      <td>1988</td>\n",
       "      <td>Inspector Morse 5: Last Seen Wearing</td>\n",
       "    </tr>\n",
       "    <tr>\n",
       "      <th>15632</th>\n",
       "      <td>5.0</td>\n",
       "      <td>15633</td>\n",
       "      <td>2000</td>\n",
       "      <td>The Thin Blue Lie</td>\n",
       "    </tr>\n",
       "    <tr>\n",
       "      <th>17234</th>\n",
       "      <td>5.0</td>\n",
       "      <td>17235</td>\n",
       "      <td>2003</td>\n",
       "      <td>Kal Ho Naa Ho: Tomorrow May Never Come</td>\n",
       "    </tr>\n",
       "    <tr>\n",
       "      <th>9481</th>\n",
       "      <td>5.0</td>\n",
       "      <td>9482</td>\n",
       "      <td>1992</td>\n",
       "      <td>Inspector Morse 23: The Death of the Self</td>\n",
       "    </tr>\n",
       "    <tr>\n",
       "      <th>3850</th>\n",
       "      <td>5.0</td>\n",
       "      <td>3851</td>\n",
       "      <td>1992</td>\n",
       "      <td>Inspector Morse 25: Cherubim &amp; Seraphim</td>\n",
       "    </tr>\n",
       "    <tr>\n",
       "      <th>4578</th>\n",
       "      <td>5.0</td>\n",
       "      <td>4579</td>\n",
       "      <td>1977</td>\n",
       "      <td>I Never Promised You a Rose Garden</td>\n",
       "    </tr>\n",
       "  </tbody>\n",
       "</table>\n",
       "</div>"
      ],
      "text/plain": [
       "       Recommendation_Score  Movie_Id  Year  \\\n",
       "13943                   5.0     13944  1998   \n",
       "9736                    5.0      9737  2001   \n",
       "6632                    5.0      6633  2003   \n",
       "6175                    5.0      6176  1983   \n",
       "15890                   5.0     15891  1988   \n",
       "15632                   5.0     15633  2000   \n",
       "17234                   5.0     17235  2003   \n",
       "9481                    5.0      9482  1992   \n",
       "3850                    5.0      3851  1992   \n",
       "4578                    5.0      4579  1977   \n",
       "\n",
       "                                            Name  \n",
       "13943                                A Good Baby  \n",
       "9736     The Powerpuff Girls: Meet the Beat-Alls  \n",
       "6632                       Foyle's War: Series 1  \n",
       "6175                      Fraggle Rock: Season 1  \n",
       "15890       Inspector Morse 5: Last Seen Wearing  \n",
       "15632                          The Thin Blue Lie  \n",
       "17234     Kal Ho Naa Ho: Tomorrow May Never Come  \n",
       "9481   Inspector Morse 23: The Death of the Self  \n",
       "3850     Inspector Morse 25: Cherubim & Seraphim  \n",
       "4578          I Never Promised You a Rose Garden  "
      ]
     },
     "execution_count": 10,
     "metadata": {},
     "output_type": "execute_result"
    }
   ],
   "source": [
    "## Create our recomendation, make an estimated rating\n",
    "recommendation = pd.DataFrame(data=(cum_df['cum_score']/cum_df['cum_corr']).to_list(),\n",
    "                              index = cum_df.index,\n",
    "                              columns=['Recommendation_Score']).sort_values(by='Recommendation_Score',\n",
    "                                                                                        ascending=False)\n",
    "recommendation = recommendation.merge(right=ntfx, left_index=True, right_on='Movie_Id')\n",
    "recommendation.head(10)"
   ]
  },
  {
   "cell_type": "markdown",
   "id": "72d705a3",
   "metadata": {},
   "source": [
    "<span style=\"color: cornflowerblue\">Reducing Data</span>"
   ]
  },
  {
   "cell_type": "markdown",
   "id": "a508e986",
   "metadata": {},
   "source": [
    "While the above implementation is very useful, it does not allow us to get any type of metric to evaluate the effectiveness of our recommendation. An alternative implementation would be to use matrix factorization using the SVD algorithm. This algorithm was popularized by Simon Funk during the Netflix Prize competition.$^{[2]}$ This can be accomplished through the surprise library.$^{[3]}$ Before doing this, however, we need to try and reduce the amount of objects in the data as much as possible.  \n",
    "To do this, we will first remove movies that are probably not very popular in the data - these are any movies which have a low amount of reviews. Since we are looking to recommend movies, we probably dont really care to recommend a movie with low popularity. We will then remove any customers who are not very active in their reviews. If a customer doesnt review often, then they will most likely be less trustworthy with giving reviews."
   ]
  },
  {
   "cell_type": "code",
   "execution_count": 11,
   "id": "4d642f8b",
   "metadata": {},
   "outputs": [],
   "source": [
    "## Free memory from previous work since we are dealing with large data\n",
    "del([recommendation, cum_df, df, user_filter])"
   ]
  },
  {
   "cell_type": "code",
   "execution_count": 12,
   "id": "2aea07f1",
   "metadata": {},
   "outputs": [
    {
     "name": "stdout",
     "output_type": "stream",
     "text": [
      "Movies to drop: 12438\n"
     ]
    }
   ],
   "source": [
    "## Remove movies with too few reviews (unpopular movies)\n",
    "freq_df = ratings.groupby('Movie_Id')['Rating'].agg(['count'])\n",
    "freq_df.head(20)\n",
    "movie_thresh = round(freq_df['count'].quantile(0.7))\n",
    "drop_movies = freq_df[freq_df['count'] < movie_thresh].index\n",
    "print(f'Movies to drop: {len(drop_movies)}')"
   ]
  },
  {
   "cell_type": "code",
   "execution_count": 13,
   "id": "b820f96b",
   "metadata": {},
   "outputs": [
    {
     "name": "stdout",
     "output_type": "stream",
     "text": [
      "Customers to drop: 335809\n"
     ]
    }
   ],
   "source": [
    "## Remove customer with too few reviews (inactive customers)\n",
    "freq_df = ratings.groupby('CustomerID')['Rating'].agg(['count'])\n",
    "freq_df.head(20)\n",
    "customer_thresh = round(freq_df['count'].quantile(0.7))\n",
    "drop_customers = freq_df[freq_df['count'] < customer_thresh].index\n",
    "print(f'Customers to drop: {len(drop_customers)}')"
   ]
  },
  {
   "cell_type": "code",
   "execution_count": 15,
   "id": "211404cb",
   "metadata": {},
   "outputs": [
    {
     "name": "stdout",
     "output_type": "stream",
     "text": [
      "Contextual outliers to drop: 2914484\n"
     ]
    }
   ],
   "source": [
    "## Contextual outlier removal: remove outliers in movie reviews\n",
    "def q1(x):\n",
    "    return np.quantile(x, .25)\n",
    "\n",
    "def q3(x):\n",
    "    return np.quantile(x, .75)\n",
    "\n",
    "freq_df = ratings.groupby('Movie_Id')['Rating'].agg([iqr, q1, q3])\n",
    "outlier_df = ratings.merge(right=freq_df,\n",
    "                               left_on='Movie_Id',\n",
    "                               right_index=True)\n",
    "del(freq_df)\n",
    "outliers = outlier_df[(outlier_df['Rating']<(outlier_df['q1'] - 1.5*outlier_df['iqr'])) |\n",
    "                      (outlier_df['Rating']>(outlier_df['q3'] + 1.5*outlier_df['iqr']))].index\n",
    "del(outlier_df)\n",
    "print(f'Contextual outliers to drop: {len(outliers)}')"
   ]
  },
  {
   "cell_type": "code",
   "execution_count": 16,
   "id": "0eeaa9d7",
   "metadata": {},
   "outputs": [
    {
     "data": {
      "text/plain": [
       "(69868264, 4)"
      ]
     },
     "execution_count": 16,
     "metadata": {},
     "output_type": "execute_result"
    }
   ],
   "source": [
    "new_ratings = ratings[~ratings['Movie_Id'].isin(drop_movies)]\n",
    "new_ratings = new_ratings[~new_ratings['CustomerID'].isin(drop_customers)]\n",
    "new_ratings = new_ratings[~new_ratings.index.isin(outliers)]\n",
    "new_ratings.shape"
   ]
  },
  {
   "cell_type": "code",
   "execution_count": 17,
   "id": "eaa35f12",
   "metadata": {},
   "outputs": [
    {
     "name": "stdout",
     "output_type": "stream",
     "text": [
      "Total removed datapoints: 30612243 (0.30%)\n"
     ]
    }
   ],
   "source": [
    "print(f'Total removed datapoints: {len(ratings) - len(new_ratings)} ({1-(len(new_ratings)/len(ratings)):.2f}%)')"
   ]
  },
  {
   "cell_type": "code",
   "execution_count": 18,
   "id": "4f407bb4",
   "metadata": {},
   "outputs": [],
   "source": [
    "del(ratings, outliers, drop_movies, drop_customers)"
   ]
  },
  {
   "cell_type": "code",
   "execution_count": 19,
   "id": "81151c91",
   "metadata": {},
   "outputs": [
    {
     "data": {
      "text/plain": [
       "(144380, 5332)"
      ]
     },
     "execution_count": 19,
     "metadata": {},
     "output_type": "execute_result"
    }
   ],
   "source": [
    "## Create a pivot table\n",
    "ratings_pivot = pd.pivot_table(new_ratings, index='CustomerID', columns='Movie_Id', values='Rating')\n",
    "ratings_pivot.shape"
   ]
  },
  {
   "cell_type": "code",
   "execution_count": 28,
   "id": "8b7f8de3",
   "metadata": {},
   "outputs": [
    {
     "data": {
      "text/plain": [
       "{'test_rmse': array([0.74498367, 0.74513559, 0.74513853, 0.74515964, 0.74485369]),\n",
       " 'test_mae': array([0.58629553, 0.5865052 , 0.58654417, 0.58652367, 0.58630125]),\n",
       " 'fit_time': (1243.6732385158539,\n",
       "  1166.1720881462097,\n",
       "  971.7347178459167,\n",
       "  867.3207578659058,\n",
       "  937.7179448604584),\n",
       " 'test_time': (497.456750869751,\n",
       "  245.21426105499268,\n",
       "  193.13601326942444,\n",
       "  214.1835584640503,\n",
       "  210.58476948738098)}"
      ]
     },
     "execution_count": 28,
     "metadata": {},
     "output_type": "execute_result"
    }
   ],
   "source": [
    "reader = Reader()\n",
    "\n",
    "data = Dataset.load_from_df(new_ratings[['CustomerID', 'Movie_Id', 'Rating']], reader)\n",
    "\n",
    "svd = SVD()\n",
    "cross_validate(svd, data, measures=['RMSE', 'MAE'], cv=5)"
   ]
  },
  {
   "cell_type": "code",
   "execution_count": 11,
   "id": "534ec022",
   "metadata": {},
   "outputs": [
    {
     "data": {
      "text/html": [
       "<div>\n",
       "<style scoped>\n",
       "    .dataframe tbody tr th:only-of-type {\n",
       "        vertical-align: middle;\n",
       "    }\n",
       "\n",
       "    .dataframe tbody tr th {\n",
       "        vertical-align: top;\n",
       "    }\n",
       "\n",
       "    .dataframe thead th {\n",
       "        text-align: right;\n",
       "    }\n",
       "</style>\n",
       "<table border=\"1\" class=\"dataframe\">\n",
       "  <thead>\n",
       "    <tr style=\"text-align: right;\">\n",
       "      <th></th>\n",
       "      <th>index</th>\n",
       "      <th>Movie_Id</th>\n",
       "      <th>CustomerID</th>\n",
       "      <th>Rating</th>\n",
       "      <th>Date</th>\n",
       "      <th>corr</th>\n",
       "    </tr>\n",
       "  </thead>\n",
       "  <tbody>\n",
       "    <tr>\n",
       "      <th>0</th>\n",
       "      <td>84178754</td>\n",
       "      <td>15039</td>\n",
       "      <td>1333</td>\n",
       "      <td>3</td>\n",
       "      <td>2005-07-09</td>\n",
       "      <td>1.0</td>\n",
       "    </tr>\n",
       "    <tr>\n",
       "      <th>1</th>\n",
       "      <td>38942962</td>\n",
       "      <td>6923</td>\n",
       "      <td>1333</td>\n",
       "      <td>2</td>\n",
       "      <td>2004-03-07</td>\n",
       "      <td>1.0</td>\n",
       "    </tr>\n",
       "    <tr>\n",
       "      <th>2</th>\n",
       "      <td>50690952</td>\n",
       "      <td>9160</td>\n",
       "      <td>1333</td>\n",
       "      <td>2</td>\n",
       "      <td>2004-02-08</td>\n",
       "      <td>1.0</td>\n",
       "    </tr>\n",
       "    <tr>\n",
       "      <th>3</th>\n",
       "      <td>20913277</td>\n",
       "      <td>3936</td>\n",
       "      <td>1333</td>\n",
       "      <td>1</td>\n",
       "      <td>2005-07-09</td>\n",
       "      <td>1.0</td>\n",
       "    </tr>\n",
       "    <tr>\n",
       "      <th>4</th>\n",
       "      <td>95259246</td>\n",
       "      <td>16901</td>\n",
       "      <td>1333</td>\n",
       "      <td>1</td>\n",
       "      <td>2004-02-18</td>\n",
       "      <td>1.0</td>\n",
       "    </tr>\n",
       "  </tbody>\n",
       "</table>\n",
       "</div>"
      ],
      "text/plain": [
       "      index  Movie_Id  CustomerID  Rating        Date  corr\n",
       "0  84178754     15039        1333       3  2005-07-09   1.0\n",
       "1  38942962      6923        1333       2  2004-03-07   1.0\n",
       "2  50690952      9160        1333       2  2004-02-08   1.0\n",
       "3  20913277      3936        1333       1  2005-07-09   1.0\n",
       "4  95259246     16901        1333       1  2004-02-18   1.0"
      ]
     },
     "execution_count": 11,
     "metadata": {},
     "output_type": "execute_result"
    }
   ],
   "source": [
    "filename = '../data/rating_corr.csv'\n",
    "ratings = pd.read_csv(filename)\n",
    "ratings.head()"
   ]
  },
  {
   "cell_type": "code",
   "execution_count": null,
   "id": "2431a68e",
   "metadata": {},
   "outputs": [],
   "source": [
    "# ratMat = ratings.pivot_table(values=\"Rating\",index=\"CustomerID\",columns=\"Movie_Id\").fillna(-1)"
   ]
  },
  {
   "cell_type": "markdown",
   "id": "17ae4324",
   "metadata": {},
   "source": [
    "[1]   \n",
    "[2] https://sifter.org/~simon/journal/20061211.html  \n",
    "[3] https://surprise.readthedocs.io/en/stable/index.html\n"
   ]
  }
 ],
 "metadata": {
  "kernelspec": {
   "display_name": "Python 3 (ipykernel)",
   "language": "python",
   "name": "python3"
  },
  "language_info": {
   "codemirror_mode": {
    "name": "ipython",
    "version": 3
   },
   "file_extension": ".py",
   "mimetype": "text/x-python",
   "name": "python",
   "nbconvert_exporter": "python",
   "pygments_lexer": "ipython3",
   "version": "3.8.10"
  }
 },
 "nbformat": 4,
 "nbformat_minor": 5
}
