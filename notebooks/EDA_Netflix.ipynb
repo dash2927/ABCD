{
 "cells": [
  {
   "cell_type": "markdown",
   "id": "debce32e",
   "metadata": {},
   "source": [
    "# Netflix Dataset Exploratory Data Analysis\n",
    "#### <span style=\"color: cornflowerblue\">Team 01 | CSPB 4502 | 11/03/22</span>\n",
    "\n",
    "---"
   ]
  },
  {
   "cell_type": "code",
   "execution_count": 2,
   "id": "56c1677d",
   "metadata": {},
   "outputs": [],
   "source": [
    "# LIBRARIES USED\n",
    "import pandas as pd\n",
    "import numpy as np\n",
    "import matplotlib.pyplot as plt\n",
    "import seaborn as sns\n",
    "import re\n",
    "from io import StringIO\n",
    "import seaborn as sns"
   ]
  },
  {
   "cell_type": "code",
   "execution_count": 3,
   "id": "065e97a2",
   "metadata": {},
   "outputs": [
    {
     "name": "stdout",
     "output_type": "stream",
     "text": [
      "Netflix Movie Names:\n",
      "ntfx.shape = (17763, 3)\n",
      "   Movie_Id  Year                          Name\n",
      "0         1  2003               Dinosaur Planet\n",
      "1         2  2004    Isle of Man TT 2004 Review\n",
      "2         3  1997                     Character\n",
      "3         4  1994  Paula Abdul's Get Up & Dance\n",
      "4         5  2004      The Rise and Fall of ECW\n",
      "Netflix Movie Ratings:\n"
     ]
    }
   ],
   "source": [
    "# IMPORT NETFLIX MOVIE NAMES\n",
    "netflix_movie_titles = \"../data/netflix/movie_titles.csv\"\n",
    "\n",
    "def manual_sep(old_split):\n",
    "    new_split = old_split[0:2] + [\",\".join(old_split[2:])]\n",
    "    return new_split\n",
    "    \n",
    "ntfx = pd.read_csv(netflix_movie_titles,\n",
    "                   encoding = \"ISO-8859-1\",\n",
    "                   header = None,\n",
    "                   names = ['Movie_Id', 'Year', 'Name'],\n",
    "                   on_bad_lines=manual_sep,\n",
    "                   engine='python')\n",
    "ntfx.dropna(subset='Year', inplace=True)\n",
    "ntfx['Year'] = ntfx['Year'].astype(\"Int64\")\n",
    "print(\"Netflix Movie Names:\")\n",
    "print(f'{ntfx.shape = }')\n",
    "print(ntfx.head().to_string())\n",
    "print(\"Netflix Movie Ratings:\")\n"
   ]
  },
  {
   "cell_type": "code",
   "execution_count": 4,
   "id": "6b4852a4",
   "metadata": {},
   "outputs": [
    {
     "name": "stdout",
     "output_type": "stream",
     "text": [
      "reading file ../data/netflix/combined_data_1.txt\n",
      "reading file ../data/netflix/combined_data_2.txt\n",
      "reading file ../data/netflix/combined_data_3.txt\n",
      "reading file ../data/netflix/combined_data_4.txt\n",
      "reading done\n",
      "ratings.shape = (100480507, 5)\n",
      "      index  Movie_Id  CustomerID  Rating        Date\n",
      "0  79334307     14358           6       2  2005-12-04\n",
      "1  34092597      6134           6       4  2005-01-12\n",
      "2  32652672      5926           6       4  2005-10-26\n",
      "3  38173947      6797           6       3  2004-11-10\n",
      "4  20618167      3905           6       3  2005-12-04\n"
     ]
    }
   ],
   "source": [
    "# IMPORT NETFLIX MOVIE RATINGS\n",
    "netflix_movie_ratings = [f'../data/netflix/combined_data_{i}.txt' for i in range(1, 5)]\n",
    "stream = StringIO()\n",
    "movie_number = \"1\"\n",
    "for path in netflix_movie_ratings:\n",
    "    print(f'reading file {path}')\n",
    "    with open(path, \"r\") as file:\n",
    "        patrn = \"[0-9]:\"\n",
    "        for line in file:\n",
    "            if re.search(patrn, line):\n",
    "                movie_num = line.replace(\":\\n\", \"\")\n",
    "            else:\n",
    "                stream.write(movie_num+\",\"+line)\n",
    "    file.close()\n",
    "stream.seek(0)\n",
    "print(\"reading done\")\n",
    "ratings = pd.read_csv(stream,\n",
    "                      encoding = \"ISO-8859-1\",\n",
    "                      names = ['Movie_Id', 'CustomerID', 'Rating', 'Date'],\n",
    "                      engine='c')\n",
    "stream.close()\n",
    "del(stream)\n",
    "ratings.sort_values(by='CustomerID', inplace=True)\n",
    "ratings.reset_index(inplace=True)\n",
    "print(f'{ratings.shape = }')\n",
    "print(ratings.head().to_string())\n",
    "ratings.to_csv('../data/ratings.csv')"
   ]
  },
  {
   "cell_type": "code",
   "execution_count": 5,
   "id": "93b73983",
   "metadata": {},
   "outputs": [
    {
     "data": {
      "text/plain": [
       "480189"
      ]
     },
     "execution_count": 5,
     "metadata": {},
     "output_type": "execute_result"
    }
   ],
   "source": [
    "# Number of ratings\n",
    "len(ratings['CustomerID'].unique())"
   ]
  },
  {
   "cell_type": "code",
   "execution_count": 6,
   "id": "3ff8ee90",
   "metadata": {},
   "outputs": [
    {
     "data": {
      "text/plain": [
       "17770"
      ]
     },
     "execution_count": 6,
     "metadata": {},
     "output_type": "execute_result"
    }
   ],
   "source": [
    "# Number of movies\n",
    "len(ratings['Movie_Id'].unique())"
   ]
  },
  {
   "cell_type": "code",
   "execution_count": 7,
   "id": "7b228acb",
   "metadata": {},
   "outputs": [],
   "source": [
    "rating_cnt = ratings.groupby(by=[\"Movie_Id\"])[\"Rating\"].count()\n",
    "rating_avg = ratings.groupby(by=[\"Movie_Id\"])[\"Rating\"].mean()\n",
    "rating_std = ratings.groupby(by=[\"Movie_Id\"])[\"Rating\"].std()"
   ]
  },
  {
   "cell_type": "code",
   "execution_count": 8,
   "id": "d9216989",
   "metadata": {},
   "outputs": [
    {
     "data": {
      "text/plain": [
       "Miss Congeniality                                         232944\n",
       "Independence Day                                          216596\n",
       "The Patriot                                               200832\n",
       "The Day After Tomorrow                                    196397\n",
       "Pirates of the Caribbean: The Curse of the Black Pearl    193941\n",
       "Pretty Woman                                              193295\n",
       "Forrest Gump                                              181508\n",
       "The Green Mile                                            181426\n",
       "Con Air                                                   178068\n",
       "Twister                                                   177556\n",
       "Name: Rating, dtype: int64"
      ]
     },
     "execution_count": 8,
     "metadata": {},
     "output_type": "execute_result"
    }
   ],
   "source": [
    "# Top 10 most reviewed movies\n",
    "top_10_count = rating_cnt.sort_values(ascending=False)[:10]\n",
    "top_10_count.index = [ntfx[ntfx['Movie_Id'] == i]['Name'].values[0] for i in top_10_count.index]\n",
    "top_10_count"
   ]
  },
  {
   "cell_type": "code",
   "execution_count": 9,
   "id": "5c38df0e",
   "metadata": {},
   "outputs": [
    {
     "data": {
      "text/plain": [
       "Lord of the Rings: The Return of the King: Extended Edition            4.723270\n",
       "The Lord of the Rings: The Fellowship of the Ring: Extended Edition    4.716611\n",
       "Lord of the Rings: The Two Towers: Extended Edition                    4.702611\n",
       "Lost: Season 1                                                         4.670989\n",
       "Battlestar Galactica: Season 1                                         4.638809\n",
       "Fullmetal Alchemist                                                    4.605021\n",
       "Trailer Park Boys: Season 4                                            4.600000\n",
       "Trailer Park Boys: Season 3                                            4.600000\n",
       "Tenchi Muyo! Ryo Ohki                                                  4.595506\n",
       "The Shawshank Redemption: Special Edition                              4.593384\n",
       "Name: Rating, dtype: float64"
      ]
     },
     "execution_count": 9,
     "metadata": {},
     "output_type": "execute_result"
    }
   ],
   "source": [
    "# Top 10 highest reviewed movies\n",
    "top_10_avg = rating_avg.sort_values(ascending=False)[:10]\n",
    "top_10_avg.index = [ntfx[ntfx['Movie_Id'] == i]['Name'].values[0] for i in top_10_avg.index]\n",
    "top_10_avg"
   ]
  },
  {
   "cell_type": "code",
   "execution_count": 10,
   "id": "167465d5",
   "metadata": {},
   "outputs": [
    {
     "name": "stderr",
     "output_type": "stream",
     "text": [
      "/tmp/ipykernel_278900/450262342.py:4: SettingWithCopyWarning: \n",
      "A value is trying to be set on a copy of a slice from a DataFrame.\n",
      "Try using .loc[row_indexer,col_indexer] = value instead\n",
      "\n",
      "See the caveats in the documentation: https://pandas.pydata.org/pandas-docs/stable/user_guide/indexing.html#returning-a-view-versus-a-copy\n",
      "  top_10_ratings[\"Movie_Id\"] = top_10_ratings[\"Movie_Id\"].apply(lambda x: movie_dict[x])\n"
     ]
    }
   ],
   "source": [
    "top_10_ratings = ratings[ratings['Movie_Id'].isin(rating_cnt.sort_values(ascending=False)[:10].index)]\n",
    "ids = rating_cnt.sort_values(ascending=False)[:10].index\n",
    "movie_dict = {i : k for i, k in zip(ids, top_10_count.index)}\n",
    "top_10_ratings[\"Movie_Id\"] = top_10_ratings[\"Movie_Id\"].apply(lambda x: movie_dict[x])"
   ]
  },
  {
   "cell_type": "code",
   "execution_count": 15,
   "id": "2c7755d3",
   "metadata": {},
   "outputs": [
    {
     "data": {
      "text/plain": [
       "<Figure size 1440x2880 with 0 Axes>"
      ]
     },
     "metadata": {},
     "output_type": "display_data"
    },
    {
     "data": {
      "image/png": "[encoded data removed]",
      "text/plain": [
       "<Figure size 720x432 with 1 Axes>"
      ]
     },
     "metadata": {},
     "output_type": "display_data"
    },
    {
     "data": {
      "image/png": "[encoded data removed]",
      "text/plain": [
       "<Figure size 720x432 with 1 Axes>"
      ]
     },
     "metadata": {},
     "output_type": "display_data"
    }
   ],
   "source": [
    "fig = plt.figure(figsize=(20, 40))\n",
    "sns.set(font_scale=1.2)\n",
    "sns.set_style(\"whitegrid\")\n",
    "# ax = fig.add_subplot(3, 1, 1)\n",
    "fig = plt.figure(figsize=(10, 6))\n",
    "sns.countplot(data=ratings, x=\"Rating\")\n",
    "plt.xlabel('Rating')\n",
    "plt.ylabel('Count')\n",
    "plt.title('Rating Counts')\n",
    "plt.show()\n",
    "# ax = fig.add_subplot(3, 1, 2)\n",
    "fig = plt.figure(figsize=(10, 6))\n",
    "\n",
    "sns.boxplot(data=top_10_ratings, y=\"Movie_Id\", x=\"Rating\", orient=\"h\")\n",
    "plt.title(\"Most Reviewed Movies\")\n",
    "plt.xlabel(\"Rating\")\n",
    "plt.ylabel(\"\")\n",
    "plt.show();"
   ]
  },
  {
   "cell_type": "code",
   "execution_count": null,
   "id": "18bb2807",
   "metadata": {},
   "outputs": [],
   "source": []
  }
 ],
 "metadata": {
  "kernelspec": {
   "display_name": "Python 3 (ipykernel)",
   "language": "python",
   "name": "python3"
  },
  "language_info": {
   "codemirror_mode": {
    "name": "ipython",
    "version": 3
   },
   "file_extension": ".py",
   "mimetype": "text/x-python",
   "name": "python",
   "nbconvert_exporter": "python",
   "pygments_lexer": "ipython3",
   "version": "3.8.10"
  }
 },
 "nbformat": 4,
 "nbformat_minor": 5
}
